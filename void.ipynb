{
 "cells": [
  {
   "cell_type": "code",
   "execution_count": 1,
   "id": "142ccea8-e71a-4d36-b46d-be5a95a7ba38",
   "metadata": {},
   "outputs": [
    {
     "name": "stdout",
     "output_type": "stream",
     "text": [
      "Hi!\n",
      "I include Numpy!\n",
      "For some Help run:\n",
      "- basics_info()\n",
      "- detlef()\n"
     ]
    }
   ],
   "source": [
    "%run -i basics.py"
   ]
  },
  {
   "cell_type": "markdown",
   "id": "c2f07153-498b-4f22-80e9-42229e04a786",
   "metadata": {
    "jp-MarkdownHeadingCollapsed": true,
    "tags": []
   },
   "source": [
    "##### older"
   ]
  },
  {
   "cell_type": "code",
   "execution_count": 2,
   "id": "86701fad-d7af-4348-8ec6-1c98a3616e1b",
   "metadata": {},
   "outputs": [
    {
     "name": "stdout",
     "output_type": "stream",
     "text": [
      "Parameter included:\n",
      "Graviticional constants Gc and µ\n",
      "Astonomical Unit au\n",
      "Semi-Major_axis of Planets(Heliocentric) ap\n",
      "Planet Radius R\n",
      "np.pi is already pi, same for sin cos & tan\n",
      "includes Ammount Strokes with sign()\n",
      "\n",
      "includes format funktion for 6digits with fun()\n",
      "\n",
      "includes Velocity calculation for Circular orbits with v_circular(x,y),\n",
      "  x=planet number or mu of Central body\n",
      "  y= Semi-major-axis or with Orbit height\n",
      "\n",
      "calculates amount of a vector with amount(x)\n",
      "\n",
      "calculates  A x B with cross(a,b)\n",
      "\n",
      "rounding is possible with truncate([value],[digits])\n",
      "\n",
      "The Indices are in the Order of the Solarsytem\n",
      "0=Sun\n",
      "1=Merkur\n",
      "2=Venus\n",
      "3=Earth\n",
      "4=Mars\n",
      "5=Jupiter\n",
      "6=Saturn\n",
      "7=Uranus\n",
      "8=Neptun\n"
     ]
    }
   ],
   "source": [
    "basics_info()\n",
    "detlef()"
   ]
  },
  {
   "cell_type": "code",
   "execution_count": 3,
   "id": "45a759de-c0b9-4b5e-835d-bed0eb671340",
   "metadata": {},
   "outputs": [],
   "source": [
    "#density_earth PWU P4.1\n",
    "volume=4/3*pi*(Re*1000)**3 #m^3"
   ]
  },
  {
   "cell_type": "code",
   "execution_count": 4,
   "id": "e39e4533-1984-4bce-8b6c-c1b97836cd61",
   "metadata": {},
   "outputs": [
    {
     "name": "stdout",
     "output_type": "stream",
     "text": [
      "5494.9kg/m^3\n"
     ]
    }
   ],
   "source": [
    "#µ=G*mass\n",
    "mass_e=me/Gc #kg\n",
    "d=mass_e/volume\n",
    "print(fun(d)+'kg/m^3')"
   ]
  },
  {
   "cell_type": "code",
   "execution_count": null,
   "id": "f88f09e4-e9d7-4dc6-b29e-761183c30397",
   "metadata": {},
   "outputs": [],
   "source": []
  },
  {
   "cell_type": "code",
   "execution_count": 5,
   "id": "39c9413f-a779-4c12-a8ce-f0ef804d2669",
   "metadata": {},
   "outputs": [],
   "source": [
    "#PWU P5.1"
   ]
  },
  {
   "cell_type": "code",
   "execution_count": 6,
   "id": "92939ad7-f5a8-42c1-90dc-f692c5c0bacf",
   "metadata": {},
   "outputs": [
    {
     "name": "stdout",
     "output_type": "stream",
     "text": [
      "3.8275e+26Watt\n"
     ]
    }
   ],
   "source": [
    "s0=1361 #w/m^2\n",
    "L0=4*pi*(auc*1000)**2*s0\n",
    "\n",
    "print(fun(L0)+'Watt')"
   ]
  },
  {
   "cell_type": "code",
   "execution_count": 7,
   "id": "7ff0adc5-a09d-41e5-9213-c92a1cb7b28e",
   "metadata": {},
   "outputs": [
    {
     "name": "stdout",
     "output_type": "stream",
     "text": [
      "3.4788e+11Watt recceived by earth\n"
     ]
    }
   ],
   "source": [
    "AE=2*pi*Re**2\n",
    "Pr=AE*s0\n",
    "print(format(Pr,'.4e')+'Watt recceived by earth')"
   ]
  },
  {
   "cell_type": "code",
   "execution_count": 8,
   "id": "4b33cb52-f593-4ddb-989c-7f3787c94375",
   "metadata": {},
   "outputs": [],
   "source": [
    "#P5.3 How many Hydrogen Atoms per second fused in Sun for L0?"
   ]
  },
  {
   "cell_type": "code",
   "execution_count": 9,
   "id": "ee91ea9e-cc84-4f9e-aa3d-f1615c8bf532",
   "metadata": {},
   "outputs": [
    {
     "name": "stdout",
     "output_type": "stream",
     "text": [
      "3.6488e+38Hydrogen Atoms used per second\n"
     ]
    }
   ],
   "source": [
    "eH=0.000000000000160217733*26.189/4 #J for one Hydrogen in the complete fusion\n",
    "\n",
    "nH=1/eH*L0\n",
    "print(fun(nH)+'Hydrogen Atoms used per second')\n",
    "#6Hydrogen Atoms where used during reaction,2 are emitted-> in Net this are 4"
   ]
  },
  {
   "cell_type": "code",
   "execution_count": 10,
   "id": "4d006672-1635-40c8-8437-adfa577df725",
   "metadata": {},
   "outputs": [],
   "source": [
    "# 1kg =5.6095883571872E+35 eV"
   ]
  },
  {
   "cell_type": "code",
   "execution_count": 11,
   "id": "ad815ffb-3fe1-4354-aa2b-07be9dbd7fd8",
   "metadata": {},
   "outputs": [
    {
     "name": "stdout",
     "output_type": "stream",
     "text": [
      "4.2587e+09 Sun Massloss in Kg/s\n",
      "2.1418e-21Sun Masses per second\n",
      "6.0496e+26 Mass Sun lost in lifetime in Kg\n",
      "0.00030424 Sun Masses lost in lifetime\n",
      "0.030424% Sunmass lost in 4.567e+09 years\n"
     ]
    }
   ],
   "source": [
    "#p5.4 how much mass loss?\n",
    "E=26.189*10**6 #eV per complete fusion cycle of 6 Hydrogen atoms\n",
    "E1=E/4 # mean energy in eV per Hydrogen\n",
    "\n",
    "ans=5.6095883571872*10**35 # eV/kg\n",
    "ans=1/ans     # kg/eV\n",
    "\n",
    "ans=E1*ans #kg per atom of fusion\n",
    "\n",
    "mloss=nH*ans\n",
    "\n",
    "ans=mu[0]/Gc\n",
    "ans=mloss/ans\n",
    "print(fun(mloss),'Sun Massloss in Kg/s')\n",
    "print(fun(ans)+'Sun Masses per second')\n",
    "\n",
    "lS0=4.567*10**9 #lifetime Sun in years\n",
    "lS=lS0*360*24*60*60\n",
    "\n",
    "mlost=lS*mloss\n",
    "ans=ans*lS\n",
    "print(fun(mlost),'Mass Sun lost in lifetime in Kg')\n",
    "print(fun(ans),'Sun Masses lost in lifetime')\n",
    "print(format(ans,'%'),'Sunmass lost in %s years'%fun(lS0))"
   ]
  },
  {
   "cell_type": "code",
   "execution_count": 12,
   "id": "c004fa55-a582-4c7b-9858-fbe5f3e6685b",
   "metadata": {},
   "outputs": [
    {
     "name": "stdout",
     "output_type": "stream",
     "text": [
      "101.3 Earth Masses burned in 4.57e+09 years\n"
     ]
    }
   ],
   "source": [
    "mE=me/Gc\n",
    "ans=mlost/mE\n",
    "\n",
    "print(fun(ans),'Earth Masses burned in %s years'%format(lS0,'.3'))"
   ]
  },
  {
   "cell_type": "code",
   "execution_count": 13,
   "id": "8d1d19c7-6bb8-45ec-8ca4-e0029ae09c1d",
   "metadata": {},
   "outputs": [
    {
     "data": {
      "text/plain": [
       "776.0525665324171"
      ]
     },
     "execution_count": 13,
     "metadata": {},
     "output_type": "execute_result"
    }
   ],
   "source": [
    "#P6.1\n",
    "vinf=470 #km/s\n",
    "k=0\n",
    "\n",
    "(2*mu[k]/R[k]+vinf**2)**0.5"
   ]
  },
  {
   "cell_type": "code",
   "execution_count": 14,
   "id": "4aaff0de-e733-4478-b840-4f125779ac71",
   "metadata": {},
   "outputs": [],
   "source": [
    "#PWU 71\n",
    "\n",
    "S=1361*(1/9.53)**2\n"
   ]
  },
  {
   "cell_type": "code",
   "execution_count": 15,
   "id": "31311fbb-3117-4351-bcaf-6c3a10a456d4",
   "metadata": {},
   "outputs": [
    {
     "name": "stdout",
     "output_type": "stream",
     "text": [
      "14.985537469899553\n"
     ]
    }
   ],
   "source": [
    "print(S)"
   ]
  },
  {
   "cell_type": "code",
   "execution_count": 16,
   "id": "a733e6a7-68c2-4014-b652-2b03d6d2faa8",
   "metadata": {},
   "outputs": [
    {
     "data": {
      "text/plain": [
       "5e-05"
      ]
     },
     "execution_count": 16,
     "metadata": {},
     "output_type": "execute_result"
    }
   ],
   "source": [
    "0.05/1000"
   ]
  },
  {
   "cell_type": "code",
   "execution_count": 17,
   "id": "f841fe30-bc20-44f3-8009-66633ee5b181",
   "metadata": {},
   "outputs": [],
   "source": [
    "ans=10**(-14.37+3*1.213)"
   ]
  },
  {
   "cell_type": "code",
   "execution_count": 18,
   "id": "852cccf1-7553-4aef-8b4b-3c9ac3fe4baf",
   "metadata": {},
   "outputs": [
    {
     "name": "stdout",
     "output_type": "stream",
     "text": [
      "Time until Micrometeroite with mass grater than 1mg in seconds hit a cube sat is 3.4611e+04 years\n"
     ]
    }
   ],
   "source": [
    "T=1/(0.05*ans)\n",
    "print('Time until Micrometeroite with mass grater than 1mg in seconds hit a cube sat is %s years'%fun(T/60/60/24/30/12))"
   ]
  },
  {
   "cell_type": "code",
   "execution_count": 19,
   "id": "e9bdfe90-987a-4c31-ba2f-9a3dc609d19c",
   "metadata": {},
   "outputs": [],
   "source": [
    "import math"
   ]
  },
  {
   "cell_type": "code",
   "execution_count": 20,
   "id": "cc2ee7a9-c1e0-4bff-a1ef-b345af50f3a7",
   "metadata": {},
   "outputs": [
    {
     "data": {
      "text/plain": [
       "-1211.390340699293"
      ]
     },
     "execution_count": 20,
     "metadata": {},
     "output_type": "execute_result"
    }
   ],
   "source": [
    "-9.81*259-390*9.81*math.log((68000-244*259)/6800)"
   ]
  },
  {
   "cell_type": "code",
   "execution_count": 21,
   "id": "65545cef-dfcb-4bee-9e14-7e249bdfee6a",
   "metadata": {},
   "outputs": [
    {
     "data": {
      "text/plain": [
       "7819.939264396945"
      ]
     },
     "execution_count": 21,
     "metadata": {},
     "output_type": "execute_result"
    }
   ],
   "source": [
    "-9.81*259 -390*9.81*math.log(1/15)"
   ]
  },
  {
   "cell_type": "code",
   "execution_count": 22,
   "id": "d1a87d9d-4c6f-44d4-b3a1-31d21708bcb7",
   "metadata": {},
   "outputs": [
    {
     "data": {
      "text/plain": [
       "13.29062672174506"
      ]
     },
     "execution_count": 22,
     "metadata": {},
     "output_type": "execute_result"
    }
   ],
   "source": [
    "18-(mu[0]/(40*auc))**0.5"
   ]
  },
  {
   "cell_type": "code",
   "execution_count": 23,
   "id": "29303f7b-f933-4154-9bd2-41e85e809d03",
   "metadata": {},
   "outputs": [],
   "source": [
    "b=16061.4\n",
    "vinf=4.357\n",
    "\n",
    "beta=np.arctan(b*vinf**2/mu[2])\n",
    "rp=b*tan(beta/2)"
   ]
  },
  {
   "cell_type": "code",
   "execution_count": 24,
   "id": "ac3409d3-c8fe-4422-a665-a596f990e84e",
   "metadata": {},
   "outputs": [
    {
     "data": {
      "text/plain": [
       "6378.14"
      ]
     },
     "execution_count": 24,
     "metadata": {},
     "output_type": "execute_result"
    }
   ],
   "source": [
    "R[3]"
   ]
  },
  {
   "cell_type": "code",
   "execution_count": 25,
   "id": "dcac0ed3-4098-4f4a-a6d6-2c5d32d1018c",
   "metadata": {},
   "outputs": [],
   "source": [
    "bi=(R[2]+175)*(2*mu[2]/((R[2]+175)*vinf**2)+1)**0.5"
   ]
  },
  {
   "cell_type": "code",
   "execution_count": 26,
   "id": "617b5868-81cb-4260-aa9b-f5ebfc772300",
   "metadata": {},
   "outputs": [
    {
     "name": "stdout",
     "output_type": "stream",
     "text": [
      "15870.987346883554\n"
     ]
    }
   ],
   "source": [
    "print(bi)"
   ]
  },
  {
   "cell_type": "code",
   "execution_count": 27,
   "id": "30f0da69-4206-4581-aeb0-e447c7654ef9",
   "metadata": {},
   "outputs": [],
   "source": [
    "rsoi=(me/mu[0])**(2/5)"
   ]
  },
  {
   "cell_type": "code",
   "execution_count": 28,
   "id": "8a18adf1-51c6-48a9-885d-01fece40b596",
   "metadata": {},
   "outputs": [
    {
     "data": {
      "text/plain": [
       "924649.53048889"
      ]
     },
     "execution_count": 28,
     "metadata": {},
     "output_type": "execute_result"
    }
   ],
   "source": [
    "rsoi*ap[3]"
   ]
  },
  {
   "cell_type": "code",
   "execution_count": 29,
   "id": "8515d914-e3dd-496e-a05c-649bfc2f979a",
   "metadata": {},
   "outputs": [
    {
     "data": {
      "text/plain": [
       "'1.289e+08'"
      ]
     },
     "execution_count": 29,
     "metadata": {},
     "output_type": "execute_result"
    }
   ],
   "source": [
    "fun((ap[2]+ap[3])/2)"
   ]
  },
  {
   "cell_type": "code",
   "execution_count": 30,
   "id": "51b054fb-06b7-426d-a8d1-d547e1bb51dc",
   "metadata": {},
   "outputs": [],
   "source": [
    "va=(2*mu[0]/ap[3]-mu[0]/((ap[2]+ap[3])/2))**0.5"
   ]
  },
  {
   "cell_type": "code",
   "execution_count": 31,
   "id": "41679b10-47b0-4ba4-8611-69f4c063a20f",
   "metadata": {},
   "outputs": [
    {
     "name": "stdout",
     "output_type": "stream",
     "text": [
      "27.28928388117607\n"
     ]
    }
   ],
   "source": [
    "print(va)"
   ]
  },
  {
   "cell_type": "code",
   "execution_count": 32,
   "id": "00ad591b-22f1-4c19-906c-d8726e842824",
   "metadata": {},
   "outputs": [
    {
     "name": "stdout",
     "output_type": "stream",
     "text": [
      "37.7270946683529\n"
     ]
    }
   ],
   "source": [
    "vp=(2*mu[0]/ap[2]-mu[0]/((ap[2]+ap[3])/2))**0.5\n",
    "print(vp)"
   ]
  },
  {
   "cell_type": "code",
   "execution_count": 33,
   "id": "2a5ba797-46a1-405f-a709-a1df37f4e966",
   "metadata": {},
   "outputs": [
    {
     "data": {
      "text/plain": [
       "-2.7062946683528963"
      ]
     },
     "execution_count": 33,
     "metadata": {},
     "output_type": "execute_result"
    }
   ],
   "source": [
    "35.0208-37.7270946683529"
   ]
  },
  {
   "cell_type": "code",
   "execution_count": 34,
   "id": "0b55d319-20d7-4558-bdb8-3cf9031d2e4a",
   "metadata": {},
   "outputs": [
    {
     "data": {
      "text/plain": [
       "2.495716118823932"
      ]
     },
     "execution_count": 34,
     "metadata": {},
     "output_type": "execute_result"
    }
   ],
   "source": [
    "29.785-27.28928388117607"
   ]
  },
  {
   "cell_type": "code",
   "execution_count": 35,
   "id": "eebf2d2d-f73c-4f89-8568-b8891346d248",
   "metadata": {},
   "outputs": [
    {
     "data": {
      "text/plain": [
       "'92.97'"
      ]
     },
     "execution_count": 35,
     "metadata": {},
     "output_type": "execute_result"
    }
   ],
   "source": [
    "P=2*pi*((420+Re)**3/me)**0.5 # period of iss apprx.\n",
    "fun(P/60)"
   ]
  },
  {
   "cell_type": "code",
   "execution_count": null,
   "id": "00966e1c-b05a-4f67-afc4-c33a452c83ec",
   "metadata": {},
   "outputs": [],
   "source": []
  },
  {
   "cell_type": "markdown",
   "id": "d6a0686d-8edd-4272-96f0-4808b41fdd70",
   "metadata": {
    "jp-MarkdownHeadingCollapsed": true,
    "tags": []
   },
   "source": [
    "##### 6.Feb"
   ]
  },
  {
   "cell_type": "markdown",
   "id": "f4c3be7b-503e-49e1-aad3-35448388f76a",
   "metadata": {
    "jp-MarkdownHeadingCollapsed": true,
    "tags": []
   },
   "source": [
    "##### P 2.13"
   ]
  },
  {
   "cell_type": "code",
   "execution_count": 36,
   "id": "99dc8f5a-b696-48f7-872c-5b653eaed22f",
   "metadata": {},
   "outputs": [
    {
     "data": {
      "text/plain": [
       "42254.0678582234"
      ]
     },
     "execution_count": 36,
     "metadata": {},
     "output_type": "execute_result"
    }
   ],
   "source": [
    "a=((d_sederial/2/pi)**2*me)**0.3334\n",
    "a"
   ]
  },
  {
   "cell_type": "code",
   "execution_count": 37,
   "id": "6a194531-06a5-43e2-b3e6-18d81f565516",
   "metadata": {},
   "outputs": [
    {
     "data": {
      "text/plain": [
       "'3.5876e+04'"
      ]
     },
     "execution_count": 37,
     "metadata": {},
     "output_type": "execute_result"
    }
   ],
   "source": [
    "fun(a-Re)"
   ]
  },
  {
   "cell_type": "markdown",
   "id": "0dc58972-9b10-4504-a8fc-67933d016bd6",
   "metadata": {
    "jp-MarkdownHeadingCollapsed": true,
    "tags": []
   },
   "source": [
    "##### P4.9"
   ]
  },
  {
   "cell_type": "code",
   "execution_count": 38,
   "id": "5c2ec612-2b06-43fc-98d5-8d386a391af5",
   "metadata": {},
   "outputs": [
    {
     "data": {
      "text/plain": [
       "-5.298092454383361e+27"
      ]
     },
     "execution_count": 38,
     "metadata": {},
     "output_type": "execute_result"
    }
   ],
   "source": [
    "Ms=ms/Gc\n",
    "Me=me/Gc\n",
    "Fg=-Gc*(Ms+Me)*Me/auc\n",
    "Fg"
   ]
  },
  {
   "cell_type": "code",
   "execution_count": 39,
   "id": "ae66e146-c103-4212-bbcb-306a7664bf41",
   "metadata": {},
   "outputs": [
    {
     "data": {
      "text/plain": [
       "449.3142619659808"
      ]
     },
     "execution_count": 39,
     "metadata": {},
     "output_type": "execute_result"
    }
   ],
   "source": [
    "R1=Me/(Me+Ms)*auc\n",
    "R1"
   ]
  },
  {
   "cell_type": "code",
   "execution_count": 40,
   "id": "48a6f126-d316-4655-b609-1533a02b84b3",
   "metadata": {},
   "outputs": [
    {
     "data": {
      "text/plain": [
       "'0.00030035%'"
      ]
     },
     "execution_count": 40,
     "metadata": {},
     "output_type": "execute_result"
    }
   ],
   "source": [
    "fun(R1/auc*100)+'%'"
   ]
  },
  {
   "cell_type": "code",
   "execution_count": 41,
   "id": "af8c272e-8d14-499d-8832-827a88141bb4",
   "metadata": {},
   "outputs": [
    {
     "data": {
      "text/plain": [
       "'0.064557%'"
      ]
     },
     "execution_count": 41,
     "metadata": {},
     "output_type": "execute_result"
    }
   ],
   "source": [
    "fun(R1/R[0]*100)+'%' # Percent offset from sun center"
   ]
  },
  {
   "cell_type": "markdown",
   "id": "26f11622-6233-447a-8d87-3656a837af88",
   "metadata": {
    "jp-MarkdownHeadingCollapsed": true,
    "tags": []
   },
   "source": [
    "##### P4.10"
   ]
  },
  {
   "cell_type": "code",
   "execution_count": 42,
   "id": "3105f8c8-b700-4214-b3c1-7b05f276bbb3",
   "metadata": {},
   "outputs": [
    {
     "name": "stdout",
     "output_type": "stream",
     "text": [
      "1.2151% dislocation of distance\n",
      " 73.153% of Earth Radius!\n",
      " 4665.8km offset\n"
     ]
    }
   ],
   "source": [
    "a_moon=384000\n",
    "rmoon=1737.4\n",
    "Me=me/Gc\n",
    "Mm=4902.8/Gc\n",
    "Fg=-Gc*(Mm+Me)*Mm/a_moon\n",
    "Fg\n",
    "\n",
    "R1=Mm/(Mm+Me)*a_moon\n",
    "R1\n",
    "\n",
    "print(fun(R1/a_moon*100)+'% dislocation of distance\\n',fun(R1/Re*100)+'% of Earth Radius!\\n',fun(R1)+'km offset')\n"
   ]
  },
  {
   "cell_type": "markdown",
   "id": "df37ae53-bf2c-4ac9-91a1-0615174d87d0",
   "metadata": {
    "jp-MarkdownHeadingCollapsed": true,
    "tags": []
   },
   "source": [
    "##### Scholzstar"
   ]
  },
  {
   "cell_type": "code",
   "execution_count": 43,
   "id": "0606b737-2dc9-4f1a-ad79-69d500a9992a",
   "metadata": {},
   "outputs": [],
   "source": [
    "r=5200*auc #Oort Cloud Object\n",
    "rp=1.05*auc"
   ]
  },
  {
   "cell_type": "code",
   "execution_count": 44,
   "id": "79ff86d8-fe23-4a9e-b06f-fda455b42ee1",
   "metadata": {},
   "outputs": [
    {
     "name": "stdout",
     "output_type": "stream",
     "text": [
      "0.41304km/s\n",
      "0.41304km/s for Oortcloud Object in 7.7791e+11km distance\n"
     ]
    }
   ],
   "source": [
    "vc=v_circular(mu[0],r)\n",
    "print(fun(vc)+'km/s for Oortcloud Object in {}km distance'.format(fun(r)))"
   ]
  },
  {
   "cell_type": "code",
   "execution_count": 45,
   "id": "a233d899-450f-4c8e-a805-4b6a4d3b56f2",
   "metadata": {},
   "outputs": [
    {
     "name": "stdout",
     "output_type": "stream",
     "text": [
      "Velocity for Oort-Cloud_Object to reach earth orbit in Oortcloud is: 0.0082996km/s\n"
     ]
    }
   ],
   "source": [
    "a=(r+rp)/2\n",
    "va=(2*ms/r-ms/a)**0.5\n",
    "print('Velocity for Oort-Cloud_Object to reach earth orbit in Oortcloud is:',fun(va)+'km/s')"
   ]
  },
  {
   "cell_type": "code",
   "execution_count": 46,
   "id": "a7879cb4-8a37-495b-9a7e-f5d68602e898",
   "metadata": {},
   "outputs": [
    {
     "name": "stdout",
     "output_type": "stream",
     "text": [
      "Needed Delta V for a OCO to reach critical Orbit of sun is\n",
      "breaking:\n",
      "from   0.41304km/s\n",
      "to     0.0082996km/s\n",
      "deltaV=0.40474km/s\n"
     ]
    }
   ],
   "source": [
    "dV=vc-va\n",
    "print('Needed Delta V for a OCO to reach critical Orbit of sun is\\nbreaking:\\nfrom   {}km/s\\nto     {}km/s\\ndeltaV={}km/s'.format(fun(vc),fun(va),fun(dV)))"
   ]
  },
  {
   "cell_type": "code",
   "execution_count": 47,
   "id": "58af9963-6290-42b5-be04-f614958ae039",
   "metadata": {},
   "outputs": [
    {
     "data": {
      "text/plain": [
       "'eccentricity of OCO in Critical orbit is e=0.9996'"
      ]
     },
     "execution_count": 47,
     "metadata": {},
     "output_type": "execute_result"
    }
   ],
   "source": [
    "#rp=a*(1-e)\n",
    "e=1-rp/a\n",
    "'eccentricity of OCO in Critical orbit is e='+fun(e)"
   ]
  },
  {
   "cell_type": "code",
   "execution_count": 48,
   "id": "825cd17c-0b72-40d4-a06c-4606778afc5c",
   "metadata": {},
   "outputs": [
    {
     "data": {
      "text/plain": [
       "'663.09 Centurys until such a OCO (disturbed now) woul arrive at earth'"
      ]
     },
     "execution_count": 48,
     "metadata": {},
     "output_type": "execute_result"
    }
   ],
   "source": [
    "P=pi*(a**3/ms)**0.5\n",
    "fun(P/60/60/24/365.25/100)+' Centurys until such a OCO (disturbed now) woul arrive at earth'"
   ]
  },
  {
   "cell_type": "code",
   "execution_count": 49,
   "id": "24fed56d-c902-4b2e-9f13-b8cf8b449716",
   "metadata": {},
   "outputs": [],
   "source": [
    "v=(2*ms/rp-ms/a)**0.5"
   ]
  },
  {
   "cell_type": "code",
   "execution_count": 50,
   "id": "5127ab68-4e6a-4937-b752-215f3d97e2ed",
   "metadata": {},
   "outputs": [
    {
     "name": "stdout",
     "output_type": "stream",
     "text": [
      "Velocity for Oort-Cloud_Object in reach of earth orbit is: 41.103km/s\n"
     ]
    }
   ],
   "source": [
    "print('Velocity for Oort-Cloud_Object in reach of earth orbit is:',fun(v)+'km/s')"
   ]
  },
  {
   "cell_type": "markdown",
   "id": "1734b76e-d496-43a9-a106-8838b599a190",
   "metadata": {
    "jp-MarkdownHeadingCollapsed": true,
    "tags": []
   },
   "source": [
    "##### Parkersolar probe"
   ]
  },
  {
   "cell_type": "code",
   "execution_count": 51,
   "id": "92edb082-c22d-4a05-9858-b16f1f01251a",
   "metadata": {},
   "outputs": [],
   "source": [
    "r=5.3e6 #Miles\n",
    "r=r*1.609344 +R[0] #in km\n",
    "v1= 101 #Miles/sec\n",
    "v1=v1*1.609344 #km/s\n"
   ]
  },
  {
   "cell_type": "code",
   "execution_count": 52,
   "id": "b82f020c-2ebf-46f2-a3ec-f1b6c555263a",
   "metadata": {},
   "outputs": [
    {
     "data": {
      "text/plain": [
       "('a= 5.6468e+07km', 'a= 0.37746au')"
      ]
     },
     "execution_count": 52,
     "metadata": {},
     "output_type": "execute_result"
    }
   ],
   "source": [
    "a=r/(2-(r*v1**2/ms))\n",
    "'a= '+fun(a)+'km','a= '+fun(a/auc)+'au'"
   ]
  },
  {
   "cell_type": "code",
   "execution_count": 53,
   "id": "aa3e37f0-2407-4abf-825b-1c1236d7bb77",
   "metadata": {},
   "outputs": [
    {
     "data": {
      "text/plain": [
       "('e=0.8243', 'Period of PSP=84.7048471448157days')"
      ]
     },
     "execution_count": 53,
     "metadata": {},
     "output_type": "execute_result"
    }
   ],
   "source": [
    "v=v1\n",
    "rp=R[0]+r\n",
    "e=1-rp/a\n",
    "'e='+fun(e), 'Period of PSP={}days'.format(2*pi*(a**3/ms)**0.5/60/60/24)"
   ]
  },
  {
   "cell_type": "markdown",
   "id": "7a69f85c-f2c9-4b14-952b-d8df16c137c5",
   "metadata": {
    "jp-MarkdownHeadingCollapsed": true,
    "tags": []
   },
   "source": [
    "##### P6.2"
   ]
  },
  {
   "cell_type": "code",
   "execution_count": 54,
   "id": "c66655ff-8d5c-43fc-a07a-05583050b84e",
   "metadata": {},
   "outputs": [],
   "source": [
    "mpl=4.5e3 #kg\n",
    "MR=0.13\n",
    "alpha=1.5\n",
    "dV=9.4 #km/s\n",
    "dVsi=dV*1e3"
   ]
  },
  {
   "cell_type": "code",
   "execution_count": 55,
   "id": "098e699f-66e7-4816-984f-0e219f2e9fe0",
   "metadata": {},
   "outputs": [
    {
     "data": {
      "text/plain": [
       "470"
      ]
     },
     "execution_count": 55,
     "metadata": {},
     "output_type": "execute_result"
    }
   ],
   "source": [
    "# c=isp*g0\n",
    "\n",
    "# MR=np.e**(-dVsi/c)\n",
    "\n",
    "c=-dVsi/np.log(MR)\n",
    "isp=c/g0\n",
    "int (isp+1)"
   ]
  },
  {
   "cell_type": "code",
   "execution_count": 56,
   "id": "5366f171-e6a8-4387-92e3-5b8011ad5638",
   "metadata": {},
   "outputs": [
    {
     "data": {
      "text/plain": [
       "150000.0"
      ]
     },
     "execution_count": 56,
     "metadata": {},
     "output_type": "execute_result"
    }
   ],
   "source": [
    "plpercent=0.03 # in percent\n",
    "m0=mpl/plpercent\n",
    "m0"
   ]
  },
  {
   "cell_type": "code",
   "execution_count": 57,
   "id": "9006efe6-7626-4981-8f98-f6c39755038f",
   "metadata": {},
   "outputs": [
    {
     "data": {
      "text/plain": [
       "2206.49625"
      ]
     },
     "execution_count": 57,
     "metadata": {},
     "output_type": "execute_result"
    }
   ],
   "source": [
    "# alpha=Ft/W\n",
    "W=m0*g0\n",
    "Ft=alpha*W\n",
    "Ft/1000 # in kN !"
   ]
  },
  {
   "cell_type": "code",
   "execution_count": 58,
   "id": "c6d1a68d-816e-4a6a-a606-82abd5443866",
   "metadata": {},
   "outputs": [
    {
     "data": {
      "text/plain": [
       "478.90846886337613"
      ]
     },
     "execution_count": 58,
     "metadata": {},
     "output_type": "execute_result"
    }
   ],
   "source": [
    "#Ft= c*mpdot\n",
    "mpdot= Ft/c\n",
    "mpdot #kg/s"
   ]
  },
  {
   "cell_type": "code",
   "execution_count": 59,
   "id": "94c5a99d-a739-421e-855e-8d1fb5af75f1",
   "metadata": {},
   "outputs": [
    {
     "data": {
      "text/plain": [
       "4.54157765295332"
      ]
     },
     "execution_count": 59,
     "metadata": {},
     "output_type": "execute_result"
    }
   ],
   "source": [
    "mf=m0*MR #MR=mf/m0\n",
    "\n",
    "mp=m0-mf\n",
    "\n",
    "tf=mp/mpdot\n",
    "tf/60 #in min"
   ]
  },
  {
   "cell_type": "code",
   "execution_count": 60,
   "id": "fbf40918-7aaa-442a-a96c-792ff0b579fa",
   "metadata": {},
   "outputs": [
    {
     "data": {
      "text/plain": [
       "89843215.71326134"
      ]
     },
     "execution_count": 60,
     "metadata": {},
     "output_type": "execute_result"
    }
   ],
   "source": [
    "It=mf*c\n",
    "It"
   ]
  },
  {
   "cell_type": "code",
   "execution_count": 61,
   "id": "4c9477e9-70f5-4756-95c2-4e5bca3f0da2",
   "metadata": {},
   "outputs": [
    {
     "data": {
      "text/plain": [
       "601258443.6195182"
      ]
     },
     "execution_count": 61,
     "metadata": {},
     "output_type": "execute_result"
    }
   ],
   "source": [
    "It=Ft*tf\n",
    "It"
   ]
  },
  {
   "cell_type": "markdown",
   "id": "acd87b16-4af3-4f39-b2a3-8d16299d08ec",
   "metadata": {},
   "source": [
    "##### P7.2"
   ]
  },
  {
   "cell_type": "code",
   "execution_count": 93,
   "id": "cbe0d41b-55cb-4d49-8c74-e624355b8491",
   "metadata": {},
   "outputs": [
    {
     "data": {
      "text/plain": [
       "6313.564646999999"
      ]
     },
     "execution_count": 93,
     "metadata": {},
     "output_type": "execute_result"
    }
   ],
   "source": [
    "# Magellan approach\n",
    "mv=mu[2]\n",
    "\n",
    "aa=-17110 #km\n",
    "ea=1.3690 #eccentricity arrival\n",
    "\n",
    "amapping=10424.1 \n",
    "emapping= 0.39433\n",
    "rp=amapping*(1-emapping)\n",
    "rp"
   ]
  },
  {
   "cell_type": "code",
   "execution_count": 94,
   "id": "4b0541bb-c72a-41dd-83ce-34fde10f8d89",
   "metadata": {},
   "outputs": [
    {
     "name": "stdout",
     "output_type": "stream",
     "text": [
      "35.021km/s\n"
     ]
    }
   ],
   "source": [
    "vp=v_circular(0,ap[2])"
   ]
  },
  {
   "cell_type": "code",
   "execution_count": 95,
   "id": "d21612d6-08b2-4594-b88a-8b49222c4268",
   "metadata": {},
   "outputs": [
    {
     "data": {
      "text/plain": [
       "11.040592902846534"
      ]
     },
     "execution_count": 95,
     "metadata": {},
     "output_type": "execute_result"
    }
   ],
   "source": [
    "va=(2*mv/rp-mv/aa)**0.5\n",
    "va"
   ]
  },
  {
   "cell_type": "code",
   "execution_count": 96,
   "id": "0548033e-c680-44b1-a23f-6fe40df774ea",
   "metadata": {},
   "outputs": [
    {
     "data": {
      "text/plain": [
       "8.470182889970793"
      ]
     },
     "execution_count": 96,
     "metadata": {},
     "output_type": "execute_result"
    }
   ],
   "source": [
    "vm=(2*mv/rp-mv/amapping)**0.5\n",
    "vm"
   ]
  },
  {
   "cell_type": "code",
   "execution_count": 97,
   "id": "5a013c73-2027-4452-856c-5949d676bf87",
   "metadata": {},
   "outputs": [
    {
     "data": {
      "text/plain": [
       "-2.5704100128757403"
      ]
     },
     "execution_count": 97,
     "metadata": {},
     "output_type": "execute_result"
    }
   ],
   "source": [
    "dV=vm-va\n",
    "dV"
   ]
  },
  {
   "cell_type": "code",
   "execution_count": null,
   "id": "f944d8cc-3a00-48a7-86d8-c4ae113c2df2",
   "metadata": {},
   "outputs": [],
   "source": []
  }
 ],
 "metadata": {
  "kernelspec": {
   "display_name": "Python 3 (ipykernel)",
   "language": "python",
   "name": "python3"
  },
  "language_info": {
   "codemirror_mode": {
    "name": "ipython",
    "version": 3
   },
   "file_extension": ".py",
   "mimetype": "text/x-python",
   "name": "python",
   "nbconvert_exporter": "python",
   "pygments_lexer": "ipython3",
   "version": "3.9.9"
  }
 },
 "nbformat": 4,
 "nbformat_minor": 5
}
