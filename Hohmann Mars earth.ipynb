{
 "cells": [
  {
   "cell_type": "code",
   "execution_count": 1,
   "id": "efc55bae-8461-49ce-a184-31fd11e936cf",
   "metadata": {},
   "outputs": [
    {
     "name": "stdout",
     "output_type": "stream",
     "text": [
      "Hi!\n",
      "I include Numpy!\n",
      "For some Help run:\n",
      "- basics_info()\n",
      "- detlef()\n"
     ]
    }
   ],
   "source": [
    "%run -i basics.py"
   ]
  },
  {
   "cell_type": "code",
   "execution_count": 2,
   "id": "3c3dfd22-8aa1-4329-b374-5c693c18f181",
   "metadata": {},
   "outputs": [],
   "source": [
    "v=np.zeros(10)\n",
    "a=np.zeros(5)\n",
    "check=np.zeros(4)\n",
    "#departure_planet\n",
    "dep=3\n",
    "    # orbit? for circular...y=1\n",
    "    \n",
    "y=1\n",
    "    \n",
    "alt_d=200 #km height\n",
    "rorb=R[dep]+alt_d\n",
    "    \n",
    "#arrival Planet\n",
    "arr=4\n",
    "rpa=4000 #km\n",
    "raa= 20000#km\n",
    "a[1]=(rpa+raa)/2"
   ]
  },
  {
   "cell_type": "code",
   "execution_count": 3,
   "id": "acdd57eb-1de9-4c54-9ca8-e3187ccbe43a",
   "metadata": {},
   "outputs": [],
   "source": [
    "def Parameter():\n",
    "    print('Hohmantransfer for  %s'%Names[dep],'to %s'%Names[arr])\n",
    "    print('%s launch Orbit '%Names[dep],'Semi-major-axis  %ikm' %rorb)\n",
    "    print('%s arrival Orbit '%Names[arr],'Semi-major-axis  %ikm' %a[1])"
   ]
  },
  {
   "cell_type": "code",
   "execution_count": 4,
   "id": "6b7cf84e-70c6-4c19-b95c-b76ce6ef259e",
   "metadata": {},
   "outputs": [],
   "source": [
    "def Orbit(): #Parking Orbit leaving Planet\n",
    "    i=0\n",
    "    v[i]=(mu[dep]/rorb)**0.5\n",
    "    i=1\n",
    "    v[i]=(2*mu[arr]/rpa-mu[arr]/a[1])**0.5\n",
    "    \n",
    "    \n",
    "    i=6\n",
    "    v[i]=(mu[0]/ap[dep])**0.5\n",
    "    i=7\n",
    "    v[i]=(mu[0]/ap[arr])**0.5"
   ]
  },
  {
   "cell_type": "code",
   "execution_count": 5,
   "id": "1642f9e2-af87-4c32-8b4b-56ff22b72f7d",
   "metadata": {},
   "outputs": [],
   "source": [
    "def direction():\n",
    "    if ap[arr]>ap[dep]:\n",
    "        check=1\n",
    "    if ap[arr]<ap[dep]:\n",
    "        check[1]=0\n",
    "    return check"
   ]
  },
  {
   "cell_type": "code",
   "execution_count": 6,
   "id": "d488c902-7d70-4f7e-88cd-9e99c7e654ce",
   "metadata": {},
   "outputs": [],
   "source": [
    "def trans():\n",
    "    atrans=(ap[arr]+ap[dep])/2\n",
    "    a[2]=atrans\n",
    "    Pt=2*pi*(a[2]**3/mu[0])**0.5\n",
    "    T=Pt/2\n",
    "    if check==1:\n",
    "        temp=ap[dep]\n",
    "    if check==1:\n",
    "        temp=ap[arr]\n",
    "    vp=((2*mu[0]/temp-mu[0]/a[2]))**0.5\n",
    "    \n",
    "    if check==1:\n",
    "        temp=ap[arr]\n",
    "    if check==1:\n",
    "        temp=ap[dep]\n",
    "    va=((2*mu[0]/temp-mu[0]/a[2]))**0.5\n",
    "    \n",
    "    \n",
    "    v[2]=vp\n",
    "    v[3]=va"
   ]
  },
  {
   "cell_type": "code",
   "execution_count": 7,
   "id": "dd1462cf-5a2c-485b-b9eb-6591dd5e0905",
   "metadata": {},
   "outputs": [],
   "source": [
    "def delta():\n",
    "    i=4\n",
    "    v[i]=v[3]-v[6]\n",
    "    i=5\n",
    "    v[i]=sign(v[2]-v[7])"
   ]
  },
  {
   "cell_type": "code",
   "execution_count": 8,
   "id": "2a6ff60f-a6bd-433c-b731-ed6d70971de2",
   "metadata": {},
   "outputs": [],
   "source": [
    "def departure():\n",
    "    vinf=(2*mu[dep]/rorb +v[4]**2)**0.5\n",
    "    v[8]=vinf"
   ]
  },
  {
   "cell_type": "code",
   "execution_count": 9,
   "id": "edbe84b5-e2f8-441e-bfcc-a3172c776e81",
   "metadata": {},
   "outputs": [],
   "source": [
    "def arrival():\n",
    "    vinf=(2*mu[arr]/a[1] +v[5]**2)**0.5\n",
    "    v[9]=vinf"
   ]
  },
  {
   "cell_type": "code",
   "execution_count": 10,
   "id": "f262c7d1-b9fb-4a1c-9f99-c7028a2e37e7",
   "metadata": {},
   "outputs": [],
   "source": [
    "def printr():\n",
    "    vstr=[]\n",
    "    j=0\n",
    "    while j<np.size(v):\n",
    "        vstr.append(fun(v[j])+'km/s')\n",
    "        print(vstr[j])\n",
    "        j=j+1\n",
    "    \n",
    "    "
   ]
  },
  {
   "cell_type": "code",
   "execution_count": 11,
   "id": "6eb8f59d-762f-45ee-986c-6a820e0fe0da",
   "metadata": {},
   "outputs": [],
   "source": [
    "def needed():\n",
    "    deltaV1=v[0]-v[8]\n",
    "    deltaV1=sign(deltaV1)\n",
    "    deltaV2=v[1]-v[9]\n",
    "    deltaV2=sign(deltaV2)\n",
    "    deltaV=deltaV1+deltaV2\n",
    "    print(deltaV1)\n",
    "    print(deltaV2)\n",
    "    print('Needed Delta V for whole Mission ist %skm/s'%fun(deltaV))"
   ]
  },
  {
   "cell_type": "code",
   "execution_count": 12,
   "id": "c590b434-56c3-442b-b4e9-64590237cf09",
   "metadata": {},
   "outputs": [
    {
     "name": "stdout",
     "output_type": "stream",
     "text": [
      "Hohmantransfer for  Earth to Mars\n",
      "Earth launch Orbit  Semi-major-axis  6578km\n",
      "Mars arrival Orbit  Semi-major-axis  12000km\n",
      "3.6114073819162806\n",
      "0.462016136484122\n",
      "Needed Delta V for whole Mission ist 4.07342km/s\n",
      "7.78426km/s\n",
      "4.22435km/s\n",
      "21.4802km/s\n",
      "32.7294km/s\n",
      "2.9448km/s\n",
      "2.64898km/s\n",
      "29.7846km/s\n",
      "24.1291km/s\n",
      "11.3957km/s\n",
      "3.76233km/s\n"
     ]
    }
   ],
   "source": [
    "Parameter()\n",
    "Orbit()\n",
    "check=direction()\n",
    "trans()\n",
    "delta()\n",
    "departure()\n",
    "arrival()\n",
    "needed()\n",
    "printr()\n"
   ]
  },
  {
   "cell_type": "code",
   "execution_count": null,
   "id": "970ca006-55d0-450e-8898-23bae2c126e3",
   "metadata": {},
   "outputs": [],
   "source": []
  },
  {
   "cell_type": "code",
   "execution_count": null,
   "id": "d32ffb67-ee54-4001-9c22-85386e56332e",
   "metadata": {},
   "outputs": [],
   "source": []
  }
 ],
 "metadata": {
  "kernelspec": {
   "display_name": "Python 3 (ipykernel)",
   "language": "python",
   "name": "python3"
  },
  "language_info": {
   "codemirror_mode": {
    "name": "ipython",
    "version": 3
   },
   "file_extension": ".py",
   "mimetype": "text/x-python",
   "name": "python",
   "nbconvert_exporter": "python",
   "pygments_lexer": "ipython3",
   "version": "3.9.9"
  }
 },
 "nbformat": 4,
 "nbformat_minor": 5
}
