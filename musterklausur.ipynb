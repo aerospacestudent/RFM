{
 "cells": [
  {
   "cell_type": "markdown",
   "id": "2f58ed73-7e94-4f59-ab08-de1032242882",
   "metadata": {
    "jp-MarkdownHeadingCollapsed": true,
    "tags": []
   },
   "source": [
    "##### infos of libary"
   ]
  },
  {
   "cell_type": "code",
   "execution_count": 1,
   "id": "dbc4412b-eafa-44f1-ac0c-6af94840c7b3",
   "metadata": {},
   "outputs": [
    {
     "name": "stdout",
     "output_type": "stream",
     "text": [
      "Hi!\n",
      "I include Numpy!\n",
      "For some Help run:\n",
      "- basics_info()\n",
      "- detlef()\n",
      "The Indices are in the Order of the Solarsytem\n",
      "0=Sun\n",
      "1=Merkur\n",
      "2=Venus\n",
      "3=Earth\n",
      "4=Mars\n",
      "5=Jupiter\n",
      "6=Saturn\n",
      "7=Uranus\n",
      "8=Neptun\n",
      "Parameter included:\n",
      "Graviticional constants Gc and µ\n",
      "Astonomical Unit au\n",
      "Semi-Major_axis of Planets(Heliocentric) ap\n",
      "Planet Radius R\n",
      "np.pi is already pi, same for sin cos & tan\n",
      "includes Ammount Strokes with sign()\n",
      "\n",
      "includes format funktion for 6digits with fun()\n",
      "\n",
      "includes Velocity calculation for Circular orbits with v_circular(x,y),\n",
      "  x=planet number or mu of Central body\n",
      "  y= Semi-major-axis or with Orbit height\n",
      "\n",
      "calculates amount of a vector with amount(x)\n",
      "\n",
      "calculates  A x B with cross(a,b)\n",
      "\n",
      "rounding is possible with truncate([value],[digits])\n",
      "\n"
     ]
    }
   ],
   "source": [
    "%run -i basics.py\n",
    "detlef()\n",
    "basics_info()"
   ]
  },
  {
   "cell_type": "markdown",
   "id": "cacb97f3-8453-450c-8b9a-4461a5171bb7",
   "metadata": {},
   "source": [
    "### Musterklausur RFM"
   ]
  },
  {
   "cell_type": "markdown",
   "id": "3bb7d436-1ce6-416f-a4b4-8f854dc92aa9",
   "metadata": {
    "tags": []
   },
   "source": [
    "##### P1"
   ]
  },
  {
   "cell_type": "code",
   "execution_count": 2,
   "id": "fe942a88-f9ee-4a3d-bbf8-d5aa55aa2145",
   "metadata": {},
   "outputs": [],
   "source": [
    "muj=126.712e6; Rj=60268.0\n",
    "mug=9890.32 ; Rg=2634.10 ;rg=1070400\n",
    "mue=3203.45; Reu=1560.80; reu=670900\n",
    "\n",
    "def tr(x): return truncate(x,6)"
   ]
  },
  {
   "cell_type": "code",
   "execution_count": 3,
   "id": "70943768-e57f-486a-a6ef-b6e6fb8b91f9",
   "metadata": {},
   "outputs": [],
   "source": [
    "hjimo=100"
   ]
  },
  {
   "cell_type": "code",
   "execution_count": 4,
   "id": "3d10a4d1-6936-4f1f-bf80-c057564379f8",
   "metadata": {},
   "outputs": [
    {
     "name": "stdout",
     "output_type": "stream",
     "text": [
      "1.9019km/s\n"
     ]
    },
    {
     "data": {
      "text/plain": [
       "1.901945"
      ]
     },
     "execution_count": 4,
     "metadata": {},
     "output_type": "execute_result"
    }
   ],
   "source": [
    "#a\n",
    "r=(Rg+hjimo)\n",
    "tr(v_circular(mug,r))"
   ]
  },
  {
   "cell_type": "code",
   "execution_count": 5,
   "id": "82ffc6ea-2bdc-45cf-9ea5-b085c5a241a5",
   "metadata": {},
   "outputs": [
    {
     "data": {
      "text/plain": [
       "9032.257055"
      ]
     },
     "execution_count": 5,
     "metadata": {},
     "output_type": "execute_result"
    }
   ],
   "source": [
    "P=2*pi*(r**3/mug)**0.5\n",
    "tr(P)"
   ]
  },
  {
   "cell_type": "code",
   "execution_count": 6,
   "id": "86b7c206-290b-4633-a745-892fa66c00f4",
   "metadata": {},
   "outputs": [
    {
     "name": "stdout",
     "output_type": "stream",
     "text": [
      "10.88km/s\n"
     ]
    },
    {
     "data": {
      "text/plain": [
       "618144.694531"
      ]
     },
     "execution_count": 6,
     "metadata": {},
     "output_type": "execute_result"
    }
   ],
   "source": [
    "#b ganymed\n",
    "vg=tr(v_circular(muj,rg));tr(2*pi*(rg**3/muj)**0.5)"
   ]
  },
  {
   "cell_type": "code",
   "execution_count": 7,
   "id": "c3663911-3062-45c4-899d-dabb4b3c074e",
   "metadata": {},
   "outputs": [
    {
     "name": "stdout",
     "output_type": "stream",
     "text": [
      "13.743km/s\n"
     ]
    },
    {
     "data": {
      "text/plain": [
       "306731.00902"
      ]
     },
     "execution_count": 7,
     "metadata": {},
     "output_type": "execute_result"
    }
   ],
   "source": [
    "#b europa\n",
    "veu=tr(v_circular(muj,reu));tr(2*pi*(reu**3/muj)**0.5)"
   ]
  },
  {
   "cell_type": "code",
   "execution_count": 8,
   "id": "5c2c85d7-7a5e-43d5-9da8-2424c0e13476",
   "metadata": {},
   "outputs": [],
   "source": [
    "#1c hohman transfer"
   ]
  },
  {
   "cell_type": "code",
   "execution_count": 9,
   "id": "7be15a61-fb8a-4cce-8a6f-2748e148b6a4",
   "metadata": {},
   "outputs": [
    {
     "data": {
      "text/plain": [
       "870750.0"
      ]
     },
     "execution_count": 9,
     "metadata": {},
     "output_type": "execute_result"
    }
   ],
   "source": [
    "at=2*hjimo +reu+rg\n",
    "at=at/2\n",
    "tr(at)"
   ]
  },
  {
   "cell_type": "code",
   "execution_count": 10,
   "id": "ea075894-911e-47ab-a668-437f7407e0dc",
   "metadata": {},
   "outputs": [],
   "source": [
    "#1d"
   ]
  },
  {
   "cell_type": "code",
   "execution_count": 11,
   "id": "c843c82b-b447-4db7-a1cb-a347b868cb53",
   "metadata": {},
   "outputs": [
    {
     "data": {
      "text/plain": [
       "9.520116"
      ]
     },
     "execution_count": 11,
     "metadata": {},
     "output_type": "execute_result"
    }
   ],
   "source": [
    "r=rg+hjimo+Rg\n",
    "vapo=(2*muj/r -muj/at)**0.5 #ganymed - launch\n",
    "tr(vapo)"
   ]
  },
  {
   "cell_type": "code",
   "execution_count": 12,
   "id": "71be43a4-4f63-4f45-b5af-36153d61a430",
   "metadata": {},
   "outputs": [
    {
     "data": {
      "text/plain": [
       "15.208026"
      ]
     },
     "execution_count": 12,
     "metadata": {},
     "output_type": "execute_result"
    }
   ],
   "source": [
    "r=reu+hjimo+Reu\n",
    "vperi=(2*muj/r -muj/at)**0.5 #europa - arrival\n",
    "tr(vperi)"
   ]
  },
  {
   "cell_type": "code",
   "execution_count": 13,
   "id": "824cc8b8-834b-43b9-88ba-771b1870cab6",
   "metadata": {},
   "outputs": [],
   "source": [
    "#1e"
   ]
  },
  {
   "cell_type": "code",
   "execution_count": 14,
   "id": "edd8a267-2eec-43ae-91aa-69270316c752",
   "metadata": {},
   "outputs": [
    {
     "data": {
      "text/plain": [
       "-1.360056"
      ]
     },
     "execution_count": 14,
     "metadata": {},
     "output_type": "execute_result"
    }
   ],
   "source": [
    "tr(vapo-vg)   #Vinf at ganymed"
   ]
  },
  {
   "cell_type": "code",
   "execution_count": 15,
   "id": "529403f1-2079-4e25-acbc-5c279dd4e679",
   "metadata": {},
   "outputs": [
    {
     "data": {
      "text/plain": [
       "-1.465076"
      ]
     },
     "execution_count": 15,
     "metadata": {},
     "output_type": "execute_result"
    }
   ],
   "source": [
    "tr(veu-vperi)  #Vinf for europa"
   ]
  },
  {
   "cell_type": "code",
   "execution_count": 16,
   "id": "cb619894-7356-412d-8c7c-f0bf71447f08",
   "metadata": {},
   "outputs": [],
   "source": [
    "#1 f"
   ]
  },
  {
   "cell_type": "code",
   "execution_count": 17,
   "id": "7d7c5f54-8bdd-4849-bfc5-dfd82f55cfdb",
   "metadata": {},
   "outputs": [
    {
     "data": {
      "text/plain": [
       "0.787813"
      ]
     },
     "execution_count": 17,
     "metadata": {},
     "output_type": "execute_result"
    }
   ],
   "source": [
    "#only a try\n",
    "tr((2**0.5-1)*1.90195) # Delta V for circular->hyberbolic trajectory"
   ]
  },
  {
   "cell_type": "code",
   "execution_count": 18,
   "id": "ea9781e2-e7c1-4e7c-89dd-305bcbef9dbb",
   "metadata": {},
   "outputs": [
    {
     "data": {
      "text/plain": [
       "1.112112"
      ]
     },
     "execution_count": 18,
     "metadata": {},
     "output_type": "execute_result"
    }
   ],
   "source": [
    "dV=(2*mug/(Rg+hjimo)+1.360056**2)**0.5-1.901945\n",
    "tr(dV)"
   ]
  },
  {
   "cell_type": "code",
   "execution_count": 19,
   "id": "53197a40-0491-4825-9438-60ef45e04070",
   "metadata": {},
   "outputs": [],
   "source": [
    "#1 g"
   ]
  },
  {
   "cell_type": "code",
   "execution_count": 20,
   "id": "6e55456a-500b-4882-b85f-4d255fb266a0",
   "metadata": {},
   "outputs": [
    {
     "name": "stdout",
     "output_type": "stream",
     "text": [
      "1.3888km/s\n"
     ]
    },
    {
     "data": {
      "text/plain": [
       "1.061506"
      ]
     },
     "execution_count": 20,
     "metadata": {},
     "output_type": "execute_result"
    }
   ],
   "source": [
    "vorbeuropa=v_circular(mue,Reu+hjimo)\n",
    "dV=(2*mue/(Reu+hjimo)+1.465076**2)**0.5-vorbeuropa\n",
    "tr(dV)"
   ]
  },
  {
   "cell_type": "code",
   "execution_count": 21,
   "id": "a9dbfe2c-06a9-4f3d-ae23-95634ea0329e",
   "metadata": {},
   "outputs": [],
   "source": [
    "#1 h"
   ]
  },
  {
   "cell_type": "code",
   "execution_count": 22,
   "id": "ef75816e-c085-4202-94dd-116cf815768d",
   "metadata": {},
   "outputs": [
    {
     "data": {
      "text/plain": [
       "(9722.498246, 1660.8)"
      ]
     },
     "execution_count": 22,
     "metadata": {},
     "output_type": "execute_result"
    }
   ],
   "source": [
    "rsoi=reu*(mue/muj)**(2/5)\n",
    "tr(rsoi),Reu+hjimo"
   ]
  },
  {
   "cell_type": "code",
   "execution_count": 23,
   "id": "231a0dd3-f91d-47c3-a0f0-4642b0bed38f",
   "metadata": {},
   "outputs": [],
   "source": [
    "# 1 i landing"
   ]
  },
  {
   "cell_type": "code",
   "execution_count": 24,
   "id": "252c7273-88d5-45b6-acd4-87553fda89c5",
   "metadata": {},
   "outputs": [
    {
     "name": "stdout",
     "output_type": "stream",
     "text": [
      "1.3888km/s\n"
     ]
    },
    {
     "data": {
      "text/plain": [
       "1.388833"
      ]
     },
     "execution_count": 24,
     "metadata": {},
     "output_type": "execute_result"
    }
   ],
   "source": [
    "dV=v_circular(mue,Reu+hjimo) # delta v for stopping in orbit\n",
    "tr(dV)"
   ]
  },
  {
   "cell_type": "code",
   "execution_count": 25,
   "id": "50e30982-2344-477d-86ea-6234d1357005",
   "metadata": {},
   "outputs": [
    {
     "data": {
      "text/plain": [
       "1.314992"
      ]
     },
     "execution_count": 25,
     "metadata": {},
     "output_type": "execute_result"
    }
   ],
   "source": [
    "geu=mue/Reu**2*1000\n",
    "tr(geu) #gravity at europas surface m/s^2"
   ]
  },
  {
   "cell_type": "code",
   "execution_count": 26,
   "id": "dcd3a3de-930a-4d31-95ec-c8c50034acf8",
   "metadata": {},
   "outputs": [
    {
     "data": {
      "text/plain": [
       "0.512833"
      ]
     },
     "execution_count": 26,
     "metadata": {},
     "output_type": "execute_result"
    }
   ],
   "source": [
    "vfreefall=(2*geu*hjimo*1000)**0.5\n",
    "tr(vfreefall/1000) #km/s delta V landing"
   ]
  },
  {
   "cell_type": "code",
   "execution_count": 27,
   "id": "d03e3cc5-a0c1-4ae5-b4ec-f928fa47473d",
   "metadata": {},
   "outputs": [
    {
     "data": {
      "text/plain": [
       "1.901666"
      ]
     },
     "execution_count": 27,
     "metadata": {},
     "output_type": "execute_result"
    }
   ],
   "source": [
    "1.388833+0.512833"
   ]
  },
  {
   "cell_type": "markdown",
   "id": "b0344746-aded-4ce5-889b-eecbec73a518",
   "metadata": {
    "tags": []
   },
   "source": [
    "##### P2"
   ]
  },
  {
   "cell_type": "raw",
   "id": "377a078a-f240-4628-9362-35dc72c77032",
   "metadata": {},
   "source": [
    "∆V 1 für den Einschuss bei Ganymed: 1.1 km/s\n",
    "∆V 2 für den Einfang bei Europa: 1.1 km/s\n",
    "∆V 3 für die Landung auf Europa: 1.9 km/s"
   ]
  },
  {
   "cell_type": "code",
   "execution_count": 28,
   "id": "adcaf5cb-2452-42d9-a9bf-0129d7c8023a",
   "metadata": {},
   "outputs": [],
   "source": [
    "dv1=1.1\n",
    "dv2=1.1\n",
    "dv3=1.9\n",
    "dv3_2=0.5\n",
    "mf=5000\n",
    "isp=380\n",
    "c=isp*g0"
   ]
  },
  {
   "cell_type": "markdown",
   "id": "11942dea-9978-4115-9a95-9e0f27ef4f94",
   "metadata": {
    "tags": []
   },
   "source": [
    "###### a)"
   ]
  },
  {
   "cell_type": "code",
   "execution_count": 29,
   "id": "5d46bb00-71d7-402d-85ff-6390cb153f73",
   "metadata": {},
   "outputs": [
    {
     "data": {
      "text/plain": [
       "3325.274588"
      ]
     },
     "execution_count": 29,
     "metadata": {},
     "output_type": "execute_result"
    }
   ],
   "source": [
    "dv=dv3*1000 #km/s in m/s\n",
    "mp=mf*(np.e**(dv/c)-1)\n",
    "tr(mp)"
   ]
  },
  {
   "cell_type": "markdown",
   "id": "2b31ec0c-9b7c-4c03-ad1e-f3ebf8711a6e",
   "metadata": {
    "tags": []
   },
   "source": [
    "###### b)"
   ]
  },
  {
   "cell_type": "code",
   "execution_count": 30,
   "id": "263590d4-aa05-4eba-be2b-8dc92c9bba01",
   "metadata": {},
   "outputs": [
    {
     "data": {
      "text/plain": [
       "10024.136936"
      ]
     },
     "execution_count": 30,
     "metadata": {},
     "output_type": "execute_result"
    }
   ],
   "source": [
    "dv=dv1*2+dv3\n",
    "dv=dv*1000\n",
    "\n",
    "mp=mf*(np.e**(dv/c)-1)\n",
    "tr(mp)"
   ]
  },
  {
   "cell_type": "code",
   "execution_count": 31,
   "id": "a8c77707-f085-4353-bd99-9be0572c8687",
   "metadata": {},
   "outputs": [
    {
     "data": {
      "text/plain": [
       "15024.136936"
      ]
     },
     "execution_count": 31,
     "metadata": {},
     "output_type": "execute_result"
    }
   ],
   "source": [
    "m0=mp+mf\n",
    "tr(m0)"
   ]
  },
  {
   "cell_type": "markdown",
   "id": "8322499f-76b4-47d5-9bad-a704aa3c8305",
   "metadata": {},
   "source": [
    "###### c)"
   ]
  },
  {
   "cell_type": "code",
   "execution_count": 32,
   "id": "8c6dd081-42f8-47fe-90fc-67d2c52745dd",
   "metadata": {},
   "outputs": [
    {
     "data": {
      "text/plain": [
       "(68842.928166, 18.47375)"
      ]
     },
     "execution_count": 32,
     "metadata": {},
     "output_type": "execute_result"
    }
   ],
   "source": [
    "mp3=3325.275\n",
    "mpdot=mp3/(3*60)\n",
    "FT=c*mpdot\n",
    "tr(FT),mpdot"
   ]
  },
  {
   "cell_type": "markdown",
   "id": "509aeeb6-0aca-4174-b337-e2374c2c1a77",
   "metadata": {},
   "source": [
    "###### d)"
   ]
  },
  {
   "cell_type": "code",
   "execution_count": 33,
   "id": "8a39f1f1-b6a1-4cda-9aa1-ac00cd5f2cee",
   "metadata": {},
   "outputs": [
    {
     "data": {
      "text/plain": [
       "1.314992988127105"
      ]
     },
     "execution_count": 33,
     "metadata": {},
     "output_type": "execute_result"
    }
   ],
   "source": [
    "geu"
   ]
  },
  {
   "cell_type": "markdown",
   "id": "71760e41-1c54-4338-bdc3-2bc022128578",
   "metadata": {},
   "source": [
    "###### e)"
   ]
  },
  {
   "cell_type": "code",
   "execution_count": 34,
   "id": "cf656d9c-86c6-45e5-b3eb-97bb2e3b8d59",
   "metadata": {},
   "outputs": [
    {
     "data": {
      "text/plain": [
       "0.467249"
      ]
     },
     "execution_count": 34,
     "metadata": {},
     "output_type": "execute_result"
    }
   ],
   "source": [
    "alpha=FT/g0/m0\n",
    "tr(alpha)"
   ]
  },
  {
   "cell_type": "markdown",
   "id": "cb74fe27-2f2e-498b-b766-edeedde372f9",
   "metadata": {
    "tags": []
   },
   "source": [
    "##### P3"
   ]
  },
  {
   "cell_type": "code",
   "execution_count": 35,
   "id": "f2c26c24-e5e1-4529-8984-859f2c558375",
   "metadata": {},
   "outputs": [],
   "source": [
    "#JIMO got wrong orbit due to malfunction\n",
    "hp=100\n",
    "ha=150"
   ]
  },
  {
   "cell_type": "markdown",
   "id": "efd5d959-c6ee-4dec-a7cf-3c0cf81e845c",
   "metadata": {},
   "source": [
    "###### a)"
   ]
  },
  {
   "cell_type": "code",
   "execution_count": 36,
   "id": "ad9e8d6e-0400-4538-a830-b8a4b9365eb1",
   "metadata": {},
   "outputs": [
    {
     "data": {
      "text/plain": [
       "0.014829"
      ]
     },
     "execution_count": 36,
     "metadata": {},
     "output_type": "execute_result"
    }
   ],
   "source": [
    "#rp=a*(1-e)\n",
    "ae=hp+ha+2*Reu\n",
    "ae=ae/2\n",
    "\n",
    "rp=hp+Reu\n",
    "\n",
    "e=(rp/ae-1)*(-1)\n",
    "tr(e)"
   ]
  },
  {
   "cell_type": "code",
   "execution_count": 37,
   "id": "55819340-3889-4848-92c8-73584dcd0d5f",
   "metadata": {},
   "outputs": [
    {
     "data": {
      "text/plain": [
       "2.134408"
      ]
     },
     "execution_count": 37,
     "metadata": {},
     "output_type": "execute_result"
    }
   ],
   "source": [
    "Pm=2*pi*(ae**3/mue)**0.5\n",
    "tr(Pm/60/60) #hours "
   ]
  },
  {
   "cell_type": "markdown",
   "id": "f08d1660-7d7e-4f7c-9d85-068ea87f2256",
   "metadata": {
    "tags": []
   },
   "source": [
    "###### b)"
   ]
  },
  {
   "cell_type": "code",
   "execution_count": 38,
   "id": "cda67f1e-eb8c-4870-937d-100a8de86693",
   "metadata": {},
   "outputs": [
    {
     "data": {
      "text/plain": [
       "1664.0578542070482"
      ]
     },
     "execution_count": 38,
     "metadata": {},
     "output_type": "execute_result"
    }
   ],
   "source": [
    "r=ae*(1-e**2)/(1+e*cos(30/180*pi))\n",
    "r"
   ]
  },
  {
   "cell_type": "code",
   "execution_count": 39,
   "id": "f277e343-6736-4071-8340-e23ee20b483f",
   "metadata": {},
   "outputs": [],
   "source": [
    "#Reu=r*cos(lam)"
   ]
  },
  {
   "cell_type": "code",
   "execution_count": 40,
   "id": "bbc956c2-1a1d-4904-b30e-439386e2485e",
   "metadata": {},
   "outputs": [
    {
     "data": {
      "text/plain": [
       "0.35413109304661633"
      ]
     },
     "execution_count": 40,
     "metadata": {},
     "output_type": "execute_result"
    }
   ],
   "source": [
    "lam=np.arccos(Reu/r)\n",
    "lam"
   ]
  },
  {
   "cell_type": "code",
   "execution_count": 60,
   "id": "1e1c8023-dd3a-4bb6-ae7e-a1aa02d177be",
   "metadata": {},
   "outputs": [
    {
     "data": {
      "text/plain": [
       "69.70978297407424"
      ]
     },
     "execution_count": 60,
     "metadata": {},
     "output_type": "execute_result"
    }
   ],
   "source": [
    "rh=np.arcsin(Reu/r) #mistake: sin &cosine changed\n",
    "r2d(rh)"
   ]
  },
  {
   "cell_type": "code",
   "execution_count": 61,
   "id": "d4d35173-0764-4193-b7ad-2a63d8350ac7",
   "metadata": {},
   "outputs": [
    {
     "data": {
      "text/plain": [
       "577.0545053529739"
      ]
     },
     "execution_count": 61,
     "metadata": {},
     "output_type": "execute_result"
    }
   ],
   "source": [
    "D0=r*cos(rh)\n",
    "D0"
   ]
  },
  {
   "cell_type": "code",
   "execution_count": 62,
   "id": "b552fd87-fae8-466c-bb46-73ed884c9dc2",
   "metadata": {},
   "outputs": [
    {
     "data": {
      "text/plain": [
       "1105.4556200543175"
      ]
     },
     "execution_count": 62,
     "metadata": {},
     "output_type": "execute_result"
    }
   ],
   "source": [
    "S0=2*lam*Reu\n",
    "S0"
   ]
  },
  {
   "cell_type": "code",
   "execution_count": 63,
   "id": "51046242-f722-4f80-95b7-632c15ff3c75",
   "metadata": {},
   "outputs": [],
   "source": [
    "Aacc=2*pi*Reu**2*(1-cos(lam))"
   ]
  },
  {
   "cell_type": "code",
   "execution_count": 64,
   "id": "56f8f89b-b849-43fa-8bd3-be4e30dc0c70",
   "metadata": {},
   "outputs": [
    {
     "data": {
      "text/plain": [
       "949793.199218"
      ]
     },
     "execution_count": 64,
     "metadata": {},
     "output_type": "execute_result"
    }
   ],
   "source": [
    "tr(Aacc)"
   ]
  },
  {
   "cell_type": "code",
   "execution_count": 65,
   "id": "b9c4bb3d-4d58-4d8b-9c89-d6f9f02bf7f7",
   "metadata": {},
   "outputs": [],
   "source": [
    "Aeu=4*pi*Reu**2"
   ]
  },
  {
   "cell_type": "code",
   "execution_count": 66,
   "id": "308f5a87-b6fb-44e3-a9c7-8160673555ef",
   "metadata": {},
   "outputs": [
    {
     "data": {
      "text/plain": [
       "3.1025"
      ]
     },
     "execution_count": 66,
     "metadata": {},
     "output_type": "execute_result"
    }
   ],
   "source": [
    "(tr((Aacc)/Aeu))*100"
   ]
  },
  {
   "cell_type": "code",
   "execution_count": 67,
   "id": "29ae3099-b583-45ed-9d30-e62067426750",
   "metadata": {},
   "outputs": [
    {
     "data": {
      "text/plain": [
       "103.25785420704824"
      ]
     },
     "execution_count": 67,
     "metadata": {},
     "output_type": "execute_result"
    }
   ],
   "source": [
    "r-Reu"
   ]
  },
  {
   "cell_type": "markdown",
   "id": "baf6bdb7-ec41-4b50-aa2b-1c9034e6ccd4",
   "metadata": {},
   "source": [
    "##### Problem 3 b/c correction"
   ]
  },
  {
   "cell_type": "code",
   "execution_count": 68,
   "id": "552d744c-eee1-4647-8612-ebec4b28cf4f",
   "metadata": {},
   "outputs": [
    {
     "data": {
      "text/plain": [
       "1664.0578542070482"
      ]
     },
     "execution_count": 68,
     "metadata": {},
     "output_type": "execute_result"
    }
   ],
   "source": [
    "r=ae*(1-e**2)/(1+e*cos(30/180*pi))\n",
    "r"
   ]
  },
  {
   "cell_type": "code",
   "execution_count": 69,
   "id": "13fb6220-1bdc-4233-a901-3ec3145ec641",
   "metadata": {},
   "outputs": [
    {
     "data": {
      "text/plain": [
       "0.354131"
      ]
     },
     "execution_count": 69,
     "metadata": {},
     "output_type": "execute_result"
    }
   ],
   "source": [
    "lam=np.arccos(Reu/r)\n",
    "tr(lam)"
   ]
  },
  {
   "cell_type": "code",
   "execution_count": 70,
   "id": "63c42ca5-54d5-4809-8bc6-97b8a0462531",
   "metadata": {},
   "outputs": [
    {
     "data": {
      "text/plain": [
       "'9.4979e+05km^2'"
      ]
     },
     "execution_count": 70,
     "metadata": {},
     "output_type": "execute_result"
    }
   ],
   "source": [
    "Aacc=2*pi*Reu**2*(1-cos(lam))\n",
    "fun(Aacc)+'km^2'"
   ]
  },
  {
   "cell_type": "code",
   "execution_count": 71,
   "id": "92d8347f-24d1-4bf7-aff1-13f2856d4d62",
   "metadata": {},
   "outputs": [
    {
     "data": {
      "text/plain": [
       "'3.0613e+07'"
      ]
     },
     "execution_count": 71,
     "metadata": {},
     "output_type": "execute_result"
    }
   ],
   "source": [
    "AE=4*pi*Reu**2\n",
    "fun(AE)"
   ]
  },
  {
   "cell_type": "code",
   "execution_count": 72,
   "id": "f734a68f-bdde-4b00-a459-42f0ac036ca3",
   "metadata": {},
   "outputs": [
    {
     "data": {
      "text/plain": [
       "3.1025920747284443"
      ]
     },
     "execution_count": 72,
     "metadata": {},
     "output_type": "execute_result"
    }
   ],
   "source": [
    "Arel=Aacc/AE*100\n",
    "Arel"
   ]
  },
  {
   "cell_type": "markdown",
   "id": "50774ae9-e4e4-42e9-a40a-0e6e6030d2e1",
   "metadata": {},
   "source": [
    "###### c)"
   ]
  },
  {
   "cell_type": "code",
   "execution_count": 73,
   "id": "daafea39-7e82-48d8-a464-dafe84047dc7",
   "metadata": {},
   "outputs": [
    {
     "data": {
      "text/plain": [
       "69.70978297407424"
      ]
     },
     "execution_count": 73,
     "metadata": {},
     "output_type": "execute_result"
    }
   ],
   "source": [
    "rh=np.arcsin(Reu/r)\n",
    "r2d(rh)"
   ]
  },
  {
   "cell_type": "code",
   "execution_count": 74,
   "id": "e426cc9b-c354-4778-9c3f-07513c2330bf",
   "metadata": {},
   "outputs": [
    {
     "data": {
      "text/plain": [
       "577.0545053529739"
      ]
     },
     "execution_count": 74,
     "metadata": {},
     "output_type": "execute_result"
    }
   ],
   "source": [
    "D0=r*cos(rh)\n",
    "D0"
   ]
  },
  {
   "cell_type": "code",
   "execution_count": null,
   "id": "68701b3a-6a96-4e9d-9601-6e16da42dfe8",
   "metadata": {},
   "outputs": [],
   "source": []
  }
 ],
 "metadata": {
  "kernelspec": {
   "display_name": "Python 3 (ipykernel)",
   "language": "python",
   "name": "python3"
  },
  "language_info": {
   "codemirror_mode": {
    "name": "ipython",
    "version": 3
   },
   "file_extension": ".py",
   "mimetype": "text/x-python",
   "name": "python",
   "nbconvert_exporter": "python",
   "pygments_lexer": "ipython3",
   "version": "3.9.9"
  }
 },
 "nbformat": 4,
 "nbformat_minor": 5
}
