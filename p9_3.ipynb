{
 "cells": [
  {
   "cell_type": "code",
   "execution_count": 1,
   "id": "dfa5b236-2405-4585-878d-b8af1c4bab35",
   "metadata": {},
   "outputs": [],
   "source": [
    "import numpy as np\n",
    "import matplotlib as plt\n",
    "pi = np.pi\n",
    "def sin(x) : return np.sin(x)\n",
    "controll=''\n",
    "controll_v=''"
   ]
  },
  {
   "cell_type": "code",
   "execution_count": 2,
   "id": "f0200961-46d7-4b6d-934e-a736b4221a61",
   "metadata": {},
   "outputs": [],
   "source": [
    "ms= 132712439935.5 #µ_sun km^3/s^2\n",
    "mv=324858.8\n",
    "me=398600.4\n",
    "mu=[0,1]\n",
    "mu[0]=me\n",
    "mu[1]=mv\n",
    "a_p='venus' # arrival planet\n",
    "rv=108.208*10**6 # distance venus sun km\n",
    "vv=35.0308 #km/s\n",
    "\n",
    "l_p='Earth' #launch planet\n",
    "re=149.598*10**6 # distance earth sun km\n",
    "ve= 29.7847 #km/s\n",
    "\n",
    "alpha=0 #angle between planetary planes here as assumption=0"
   ]
  },
  {
   "cell_type": "code",
   "execution_count": 3,
   "id": "df1ed018-3de2-43d9-970e-febe5d0ea213",
   "metadata": {},
   "outputs": [],
   "source": [
    "#optinal funktion for Mars Test\n",
    "\n",
    "start= 0\n",
    "if start ==1:\n",
    "    a_p='Mars' # arrival planet\n",
    "    rv=227.94382*10**6 # distance venus sun km\n",
    "    vv=(ms/rv)**(1/2) #km/s"
   ]
  },
  {
   "cell_type": "code",
   "execution_count": 4,
   "id": "ceecda5d-8083-41f5-b0df-0bd9a597892e",
   "metadata": {},
   "outputs": [],
   "source": [
    "a=(rv+re)/2 #semi-major-axis \n",
    "\n",
    "v_peri=(2*ms/rv -ms/a)**(1/2) #velocity unbreaked at pericenter of transfer ellipse\n",
    "\n",
    "v_apo=(2*ms/re -ms/a)**(1/2) #S/C Orbital velocity at Apocentrum /earth of transfer ellipse\n",
    "\n",
    "\n",
    "\n",
    "\n",
    "\n",
    "vi= (ms/a)**(1/2) #mean velocity for flight duration\n",
    "T=2*pi*a/vi\n",
    "t=T/2\n",
    "td=t/60/60/24\n",
    "t=format(t,'.4E')\n",
    "td=format(td,'.6')"
   ]
  },
  {
   "cell_type": "code",
   "execution_count": null,
   "id": "39a33b4e-a4a6-4f1e-8f25-bff4f8cb8b3d",
   "metadata": {},
   "outputs": [],
   "source": []
  },
  {
   "cell_type": "code",
   "execution_count": 5,
   "id": "407b4f20-1b1f-4b82-becc-e21e11150795",
   "metadata": {},
   "outputs": [],
   "source": [
    "#calculation of Hyperbolic exess velocities and C3"
   ]
  },
  {
   "cell_type": "code",
   "execution_count": 6,
   "id": "8f10ef2c-2e46-401e-a303-a8811dc45cca",
   "metadata": {},
   "outputs": [],
   "source": [
    "#code for inbound Maneuver!\n",
    "\n",
    "#x=(v_apo-ve)/ve\n",
    "#print('Ratio of Vapo/Vearth',format(x,'.1%'))\n",
    "if v_apo > ve:                #vinf clalculation for leaving the earth SOI\n",
    "        vsc=v_apo\n",
    "        h=ve*sin(alpha)\n",
    "        vx=vsc-ve\n",
    "        vinf=(vx**2+h**2)**(1/2)\n",
    "        controll='in'\n",
    "if v_apo < ve:               # <- our actual case\n",
    "        vsc=v_apo\n",
    "        h=vsc*sin(alpha)\n",
    "        vx=ve-vsc\n",
    "        vinf=(vx**2+h**2)**(1/2)\n",
    "        controll='against'\n",
    "    \n",
    "if v_peri > vv:                #vinf clalculation for entering the venus SOI\n",
    "        vsc=v_peri\n",
    "        h=vv*sin(alpha)\n",
    "        vx=vsc-vv\n",
    "        vinf_v=(vx**2+h**2)**(1/2)\n",
    "        controll_v='in'\n",
    "if v_peri < vv:\n",
    "        vsc=v_peri\n",
    "        h=vsc*sin(alpha)\n",
    "        vx=vv-vsc\n",
    "        vinf_v=(vx**2+h**2)**(1/2)\n",
    "        controll_v='against'\n",
    "        \n",
    "c3=vinf**2"
   ]
  },
  {
   "cell_type": "code",
   "execution_count": 7,
   "id": "664f76eb-0ce3-477b-8c24-a63c66b2bcf2",
   "metadata": {},
   "outputs": [
    {
     "name": "stdout",
     "output_type": "stream",
     "text": [
      "needed Delta V at Earth is 3.290km/s\n",
      "needed Delta V at venus is 3.072km/s\n"
     ]
    }
   ],
   "source": [
    "#lösung für einfache delta V bestimmung! Achtung evtl. falsche ergebnisse \n",
    "Re=6378.14 #km\n",
    "Rv=6051.8 #km\n",
    "\n",
    "he=400 #km\n",
    "hv=400#km\n",
    "\n",
    "r=np.linspace(0,1,2)\n",
    "r[0]=Re+he\n",
    "r[1]=Rv+hv\n",
    "\n",
    "v_inf=np.linspace(0,1,2)\n",
    "v_inf[0]=vinf\n",
    "v_inf[1]=vinf_v\n",
    "dV=np.linspace(0,1,2)\n",
    "\n",
    "text=['','']\n",
    "text[0]=str(l_p)\n",
    "text[1]=str(a_p)\n",
    "i=0\n",
    "while i<=1:\n",
    "    dV[i]=(2*mu[i]/r[i]+ v_inf[i])**(1/2)-(mu[i]/r[i])**(1/2)\n",
    "    x=str(dV[i])\n",
    "    print('needed Delta V at',text[i],'is',format(x,'.5')+str('km/s'))\n",
    "    i=i+1"
   ]
  },
  {
   "cell_type": "code",
   "execution_count": 8,
   "id": "efd70d5b-12d1-4bb0-8e45-2a4aab63a5ff",
   "metadata": {},
   "outputs": [],
   "source": [
    "#printline"
   ]
  },
  {
   "cell_type": "code",
   "execution_count": 21,
   "id": "f8795d9f-1cc2-44b6-8e70-b2cf487aca31",
   "metadata": {},
   "outputs": [
    {
     "name": "stdout",
     "output_type": "stream",
     "text": [
      "a is : 1.2890E+08 km\n",
      "Vperi= 37.73 km/s\n",
      "deltaV for intersection at Venus is: 3.073 km/s against velocity direction\n",
      "Transfer Duration is 1.2621E+07 s or 146.075 Days\n",
      "\n",
      " #code for inbound Maneuver!# \n",
      "\n",
      "Velocity at Apocentrum:  27.29km/s ( Earth )\n",
      "Velocity at Pericentrum: 37.73km/s ( venus ) \n",
      "\n",
      "V_inf is:  2.495km/s for Earth\n",
      "Thrust Maneuver against Orbital Velocity direction of Earth\n",
      "\n",
      " V_inf is: 2.696km/s for venus\n",
      "Thrust Maneuver in Orbital Velocity direction of venus\n",
      "needed C3 at earth is 6.227km^2/s^2\n",
      "Delta V for mission:  6.364km/s\n"
     ]
    }
   ],
   "source": [
    "print('a is :',format(a,'.4E'),'km')\n",
    "print('Vperi=',format(v_peri,'.4'),'km/s')\n",
    "print('deltaV for intersection at Venus is:',format(dV[1],'.4'),'km/s against velocity direction')\n",
    "print('Transfer Duration is',t,'s or',(td),'Days')\n",
    "print('\\n','#code for inbound Maneuver!#','\\n')\n",
    "\n",
    "print('Velocity at Apocentrum: ',format(v_apo,'.4')+str('km/s'),'(',l_p,')')\n",
    "print('Velocity at Pericentrum:',format(v_peri,'.4')+str('km/s'),'(',a_p,')','\\n')\n",
    "\n",
    "vinf=format(vinf,'.5')\n",
    "print('V_inf is: ',str(vinf)+str('km/s'),'for',l_p)\n",
    "print('Thrust Maneuver',controll,'Orbital Velocity direction of '+str(l_p))\n",
    "\n",
    "\n",
    "vinf_v=format(vinf_v,'.5')\n",
    "print('\\n','V_inf is:',str(vinf_v)+str('km/s'),'for',a_p)\n",
    "print('Thrust Maneuver',controll_v,'Orbital Velocity direction of '+str(a_p))\n",
    "c3=format(c3,'.5')\n",
    "print('needed C3 at earth is',str(c3)+str('km^2/s^2'))\n",
    "#tmp=np.linalg.norm(dV)\n",
    "tmp=np.abs(dV[0])+np.abs(dV[1])\n",
    "print('Delta V for mission:  %skm/s'%format(tmp,'.4'))"
   ]
  },
  {
   "cell_type": "code",
   "execution_count": null,
   "id": "327ebe07-1ae4-4c58-9f0c-1e6b0857455c",
   "metadata": {},
   "outputs": [],
   "source": []
  },
  {
   "cell_type": "code",
   "execution_count": null,
   "id": "60219a8c-7b8d-4432-9f2a-0ca1b2629c39",
   "metadata": {},
   "outputs": [],
   "source": []
  }
 ],
 "metadata": {
  "kernelspec": {
   "display_name": "Python 3 (ipykernel)",
   "language": "python",
   "name": "python3"
  },
  "language_info": {
   "codemirror_mode": {
    "name": "ipython",
    "version": 3
   },
   "file_extension": ".py",
   "mimetype": "text/x-python",
   "name": "python",
   "nbconvert_exporter": "python",
   "pygments_lexer": "ipython3",
   "version": "3.9.9"
  }
 },
 "nbformat": 4,
 "nbformat_minor": 5
}
