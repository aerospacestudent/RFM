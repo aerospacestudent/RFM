{
 "cells": [
  {
   "cell_type": "markdown",
   "id": "85fb3948-dde6-4415-af83-59e9770cca69",
   "metadata": {
    "tags": []
   },
   "source": [
    "### Comparison of landing maneuver at Mars with 9.7 Values"
   ]
  },
  {
   "cell_type": "markdown",
   "id": "a051d35b-d5a4-47e5-a93e-c4b0ace3b8aa",
   "metadata": {
    "jp-MarkdownHeadingCollapsed": true,
    "tags": []
   },
   "source": [
    "####"
   ]
  },
  {
   "cell_type": "code",
   "execution_count": 1,
   "id": "f4b3082c-5883-4ed8-884c-6fcdd8454bbb",
   "metadata": {},
   "outputs": [
    {
     "name": "stdout",
     "output_type": "stream",
     "text": [
      "Hi!\n",
      "I include Numpy!\n",
      "For some Help run:\n",
      "- basics_info()\n",
      "- detlef()\n"
     ]
    }
   ],
   "source": [
    "%run -i basics.py"
   ]
  },
  {
   "cell_type": "code",
   "execution_count": 2,
   "id": "dc8d350c-f328-4e35-979e-f6dc698e855e",
   "metadata": {},
   "outputs": [
    {
     "name": "stdout",
     "output_type": "stream",
     "text": [
      "Parameter included:\n",
      "Graviticional constants Gc and µ\n",
      "Astonomical Unit au\n",
      "Semi-Major_axis of Planets(Heliocentric) ap\n",
      "Planet Radius R\n",
      "np.pi is already pi, same for sin cos & tan\n",
      "includes Ammount Strokes with sign()\n",
      "includes format funktion for 6digits with \"fun()\"\n",
      "includes Velocity calculation for Circular orbits with v_circular(x,y),\n",
      "  x=planet number or mu of Central body\n",
      "  y= Semi-major-axis or with Orbit height\n",
      "\n",
      "The Indices are in the Order of the Solarsytem\n",
      "0=Sun\n",
      "1=Merkur\n",
      "2=Venus\n",
      "3=Earth\n",
      "4=Mars\n",
      "5=Jupiter\n",
      "6=Saturn\n",
      "7=Uranus\n",
      "8=Neptun\n"
     ]
    }
   ],
   "source": [
    "basics_info()\n",
    "detlef()"
   ]
  },
  {
   "cell_type": "markdown",
   "id": "c948edb4-2478-4326-b565-4adc982f3de6",
   "metadata": {
    "tags": []
   },
   "source": [
    "#### Values for Orbit from P9.7"
   ]
  },
  {
   "cell_type": "code",
   "execution_count": 14,
   "id": "e721c873-2192-4f3d-89df-ec15f0ff8657",
   "metadata": {},
   "outputs": [
    {
     "name": "stdout",
     "output_type": "stream",
     "text": [
      "1.8892km/s\n"
     ]
    },
    {
     "data": {
      "text/plain": [
       "(0.8448698124563335, 4.224349062281667, 0.6666666666666667)"
      ]
     },
     "execution_count": 14,
     "metadata": {},
     "output_type": "execute_result"
    }
   ],
   "source": [
    "raa=20000                 #apocentrum arrival mars km\n",
    "rpe=4000                  #perocentrum arrival mars km\n",
    "gm=3.72076 #m/s^2\n",
    "r=[]\n",
    "r.append(raa)\n",
    "r.append(rpe)\n",
    "tmp=raa+rpe\n",
    "aorb=tmp/2                #orbit semi-major axis at mars\n",
    "mm=mu[4]\n",
    "v_apo=(2*mm/raa - mm/aorb)**0.5\n",
    "v_peri=(2*mm/rpe - mm/aorb)**0.5\n",
    "\n",
    "v_comp=v_circular(4,aorb) #Comperative velocity of orbit as circular orbit\n",
    "e=(-1)*(rpe/aorb-1)\n",
    "v_apo, v_peri,e"
   ]
  },
  {
   "cell_type": "markdown",
   "id": "ffb87b11-72c7-4ce0-9b97-732d9983e7fe",
   "metadata": {
    "jp-MarkdownHeadingCollapsed": true,
    "tags": []
   },
   "source": [
    "#### Freefall velocity Mars without Atmosphere- Galileo Lander"
   ]
  },
  {
   "cell_type": "code",
   "execution_count": 4,
   "id": "428cb886-3471-4947-b19d-c41cbcf1b063",
   "metadata": {},
   "outputs": [],
   "source": [
    "def vmax(a,h):\n",
    "    steps= 1000\n",
    "    \n",
    "    mlander= 339     # kg\n",
    "    rhomars=0.007*1.225 # 0.7% of earths Atmosphere\n",
    "    cdlander= 2.0\n",
    "    A=pi*(1.3)**2/4 #Surface of Lander\n",
    "    vmax=(2*a*h)**0.5\n",
    "    Drag=-rhomars/2*cdlander*(vmax*1000)**2*A\n",
    "    \n",
    "    freefall=(mlander*gm*2/rhomars/cdlander/A)**0.5\n",
    "    if vmax < freefall:\n",
    "        print(fun(vmax)+'km/s for Fallheight of %i km'%h)\n",
    "        return vmax\n",
    "    if vmax > freefall:\n",
    "        print(fun(freefall)+'km/s for Fallheight of %i km'%h)\n",
    "        return freefall\n",
    "    #Approximation\n",
    "    aero= Drag/mlander\n",
    "    atmp=a+aero\n",
    "    #print(atmp,'m/(s**2)')"
   ]
  },
  {
   "cell_type": "code",
   "execution_count": 5,
   "id": "4ee28d93-9ac7-4f79-b855-ae20706c6031",
   "metadata": {},
   "outputs": [
    {
     "name": "stdout",
     "output_type": "stream",
     "text": [
      "332.9km/s for Fallheight of 16603 km\n",
      "66.987km/s for Fallheight of 603 km\n"
     ]
    }
   ],
   "source": [
    "ans=[]\n",
    "tmp=vmax(gm,raa-R[4])\n",
    "tmp=tmp+v_apo\n",
    "ans.append('ΔV is: '+fun(tmp)+'km/s for full stop at apocenter')\n",
    "tmp=vmax(gm,rpe-R[4])\n",
    "tmp=tmp+v_peri\n",
    "ans.append('ΔV is: '+fun(tmp)+'km/s for full stop at pericenter')\n"
   ]
  },
  {
   "cell_type": "code",
   "execution_count": 6,
   "id": "bbc8284b-0e79-4502-a2d8-6d94f1a8652e",
   "metadata": {},
   "outputs": [
    {
     "data": {
      "text/plain": [
       "['ΔV is: 333.74km/s for full stop at apocenter',\n",
       " 'ΔV is: 71.211km/s for full stop at pericenter']"
      ]
     },
     "execution_count": 6,
     "metadata": {},
     "output_type": "execute_result"
    }
   ],
   "source": [
    "ans"
   ]
  },
  {
   "cell_type": "markdown",
   "id": "7a730b20-1a12-4ebe-8684-eabbc3207ff5",
   "metadata": {
    "jp-MarkdownHeadingCollapsed": true,
    "tags": []
   },
   "source": [
    "#### Hohman to Surface"
   ]
  },
  {
   "cell_type": "code",
   "execution_count": 7,
   "id": "0546415b-fba7-447b-8a1a-759ee5cd2e09",
   "metadata": {},
   "outputs": [
    {
     "name": "stdout",
     "output_type": "stream",
     "text": [
      "ΔV for Landing Maneuver on Mars from Apocenter to Surface:4.699km/s\n",
      "   ΔV=56.313m/s for Orbit->Landing ellipse + 4.6427km/s braking at surface\n",
      "\n",
      "ΔV for Landing Maneuver on Mars from Pericenter to Surface:4.781km/s\n",
      "   ΔV=1.0884km/s for Orbit->Landing ellipse + 3.6926km/s braking at surface\n",
      "\n"
     ]
    }
   ],
   "source": [
    "at=np.zeros(2)\n",
    "\n",
    "at[0]=1/2*(raa+R[4]) #transfer SMA for apocenter to surface\n",
    "at[1]=1/2*(rpe+R[4]) #transfer SMA for pericenter to surface\n",
    "\n",
    "v_at=np.zeros(2) #velocity apoicenter of transfer ellipse\n",
    "v_pt=np.zeros(2) #velocity pericenter of transfer ellipse\n",
    "\n",
    "i=0\n",
    "while i<2:                            #orbit velocity in apocenter of landing elipse\n",
    "    v_at[i]=(2*mm/r[i]-mm/at[i])**0.5\n",
    "    i=i+1\n",
    "\n",
    "i=0\n",
    "while i<2:                            #landing velocity\n",
    "    v_pt[i]=(2*mm/R[4]-mm/at[i])**0.5\n",
    "    i=i+1\n",
    "    \n",
    "dV=np.zeros(6)         #delta V for Transfer Orbit Mars to trajectory for landing\n",
    "\n",
    "tmp=sign(v_at[0]-v_apo)\n",
    "dV[0]=tmp                   \n",
    "tmp=sign(v_at[1]-v_peri)\n",
    "dV[1]=(tmp)\n",
    "\n",
    "tmp=sign(v_pt[0])\n",
    "dV[2]=tmp\n",
    "tmp=sign(v_pt[1])\n",
    "dV[3]=tmp\n",
    "\n",
    "dV[4]=dV[0]+dV[2]\n",
    "dV[5]=dV[1]+dV[3]\n",
    "\n",
    "print('ΔV for Landing Maneuver on Mars from Apocenter to Surface:%skm/s'%fun(dV[4]))\n",
    "print('   ΔV='+fun(dV[0]*1000)+'m/s for Orbit->Landing ellipse','+',fun(dV[2])+'km/s braking at surface\\n')\n",
    "\n",
    "print('ΔV for Landing Maneuver on Mars from Pericenter to Surface:%skm/s'%fun(dV[5]))\n",
    "print('   ΔV='+fun(dV[1])+'km/s for Orbit->Landing ellipse','+',fun(dV[3])+'km/s braking at surface\\n')\n",
    "\n",
    "ans.append('ΔV is: %skm/s for Hohman Apocenter->surface'%fun(dV[4]))\n",
    "ans.append('ΔV is: %skm/s for Hohman Pericenter->surface'%fun(dV[5]))"
   ]
  },
  {
   "cell_type": "markdown",
   "id": "d4b59f53-95d8-4e44-9e78-066d9801cac0",
   "metadata": {
    "tags": []
   },
   "source": [
    "### Answer"
   ]
  },
  {
   "cell_type": "code",
   "execution_count": 19,
   "id": "0fa0f327-ce5b-4773-84d6-0ff3ec96b1a8",
   "metadata": {},
   "outputs": [
    {
     "name": "stdout",
     "output_type": "stream",
     "text": [
      "Orbit Parameter at Mars:\n",
      "a≈12000.0km\n",
      "Mean Velocity≈ 1.8892km/s\n",
      "Orbit eccentricity e at Mars:\n",
      "e≈0.666\n",
      "\n",
      "ΔV is: 333.74km/s for full stop at apocenter\n",
      "ΔV is: 71.211km/s for full stop at pericenter\n",
      "ΔV is: 4.699km/s for Hohman Apocenter->surface\n",
      "ΔV is: 4.781km/s for Hohman Pericenter->surface\n"
     ]
    }
   ],
   "source": [
    "print('Orbit Parameter at Mars:')\n",
    "print('a≈{}km\\nMean Velocity≈ {}km/s'.format(aorb, fun(v_comp)))\n",
    "e=fun(e)\n",
    "print('Orbit eccentricity e at Mars:\\ne≈{}\\n'.format(e))\n",
    "\n",
    "i=0\n",
    "while i< np.size(ans):\n",
    "    print(ans[i])\n",
    "    i=i+1\n",
    "    \n"
   ]
  },
  {
   "cell_type": "markdown",
   "id": "2bc53275-884f-4a46-a1a8-c47b816ffe3e",
   "metadata": {},
   "source": [
    "#### Entry Duration"
   ]
  },
  {
   "cell_type": "code",
   "execution_count": 9,
   "id": "0c6b0e4f-fb20-4bdf-9ae3-7c17af4bee9d",
   "metadata": {},
   "outputs": [
    {
     "name": "stdout",
     "output_type": "stream",
     "text": [
      "Landing Time:\n",
      "t= 5.3355hours for Transfer from apocenter\n",
      "t= 56.908min   for Transfer from pericenter\n"
     ]
    }
   ],
   "source": [
    "P=2*pi*(at**3/mm)**0.5\n",
    "T=P/2\n",
    "t=T/60/60\n",
    "print('Landing Time:\\nt= %shours for Transfer from apocenter' %fun(t[0]))\n",
    "print('t= %smin   for Transfer from pericenter'%fun(t[1]*60))"
   ]
  },
  {
   "cell_type": "code",
   "execution_count": null,
   "id": "4d9dd7fb-c2b5-4638-8f2e-494192ca55f3",
   "metadata": {},
   "outputs": [],
   "source": []
  }
 ],
 "metadata": {
  "kernelspec": {
   "display_name": "Python 3 (ipykernel)",
   "language": "python",
   "name": "python3"
  },
  "language_info": {
   "codemirror_mode": {
    "name": "ipython",
    "version": 3
   },
   "file_extension": ".py",
   "mimetype": "text/x-python",
   "name": "python",
   "nbconvert_exporter": "python",
   "pygments_lexer": "ipython3",
   "version": "3.9.9"
  }
 },
 "nbformat": 4,
 "nbformat_minor": 5
}
