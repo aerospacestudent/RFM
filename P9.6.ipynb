{
 "cells": [
  {
   "cell_type": "code",
   "execution_count": 1,
   "id": "0514626a-5662-49a7-ad2d-ac54a6432615",
   "metadata": {},
   "outputs": [],
   "source": [
    "ms= 132712439935.5 #µ_sun km^3/s^2\n",
    "ml=398600.4 #µ leabing planet earth\n",
    "ma=42828.3  #µ larrival planet mars\n",
    "\n",
    "a_p='Mars' # arrival planet\n",
    "aa=227.94382*10**6 # S-M-A mars sun km a:=arrival\n",
    "va=(ms/aa)**(1/2) #km/s  \n",
    "\n",
    "l_p='Earth' #launch planet\n",
    "al=149.598*10**6 # distance earth sun km l:=leaving\n",
    "vl= 29.7847 #km/s\n",
    "\n",
    "Rl=6378.14 #km radius Earth\n",
    "hl=200 #orbit height earth km\n",
    "rl=Rl+hl                           #km\n",
    "\n",
    "raa=20000 #apocentrum arrival mars km\n",
    "rpa=4000 #perocentrum arrival mars km\n",
    "a_a=raa+rpa\n",
    "a_a=a_a/2"
   ]
  },
  {
   "cell_type": "code",
   "execution_count": 2,
   "id": "15081ed1-fa07-46eb-a510-972f5a0f8882",
   "metadata": {},
   "outputs": [],
   "source": [
    "at=(aa+al)/2\n",
    "\n",
    "if aa>al:\n",
    "    vperi=(2*ms/al-ms/at)**(1/2)\n",
    "    vapo=(2*ms/aa-ms/at)**(1/2)\n",
    "    vi_l=vl-vperi\n",
    "    vi_a=va-vapo\n",
    "if aa<al:\n",
    "    vapo=(2*ms/al-ms/at)**(1/2)\n",
    "    vperi=(2*ms/aa-ms/at)**(1/2)\n",
    "    vi_a=va-vperi\n",
    "    vi_l=vl-vapo\n",
    "    \n",
    "#kickstage calculation\n",
    "\n",
    "vpark=(ml/rl)**(1/2)  #orbital velocity in parking Orbit of S/C\n",
    "vpark_req=(2*ml/rl +vi_l**2)**(1/2) #needed Velocity of S/C for leaving SOI from Earth for elliptical Transferorbit\n",
    "\n",
    "dVl=vpark_req-vpark\n",
    "\n",
    "#insertion calculation\n",
    "\n",
    "dVa=(2*ma/rpa +vi_a**2)**(1/2)-(2*ma/rpa-ma/a_a)**(1/2)\n",
    "\n",
    "dV_total=dVl+dVa"
   ]
  },
  {
   "cell_type": "code",
   "execution_count": 4,
   "id": "757338b3-a5be-483a-bc63-7379fea183b4",
   "metadata": {},
   "outputs": [
    {
     "name": "stdout",
     "output_type": "stream",
     "text": [
      "Vinf leaving -2.9448km/s\n",
      "Vinf arrival 2.649km/s\n",
      "delta V leaving 3.6114km/s\n",
      "delta V arrival 1.1078km/s \n",
      "\n",
      "dV_total 4.7192km/s\n"
     ]
    }
   ],
   "source": [
    "#vinf values\n",
    "print('Vinf leaving',format(vi_l,'.5')+str('km/s'))\n",
    "print('Vinf arrival',format(vi_a,'.5')+str('km/s'))\n",
    "\n",
    "\n",
    "print('delta V leaving',format(dVl,'.5')+str('km/s'))\n",
    "print('delta V arrival',format(dVa,'.5')+str('km/s \\n'))\n",
    "print('dV_total',format(dV_total,'.5')+str('km/s'))"
   ]
  },
  {
   "cell_type": "code",
   "execution_count": null,
   "id": "0fefdbb4-e674-4f34-87eb-2dce8b93446a",
   "metadata": {},
   "outputs": [],
   "source": []
  },
  {
   "cell_type": "code",
   "execution_count": null,
   "id": "5dd21980-de6d-4857-b0e6-157599001968",
   "metadata": {},
   "outputs": [],
   "source": []
  }
 ],
 "metadata": {
  "kernelspec": {
   "display_name": "Python 3 (ipykernel)",
   "language": "python",
   "name": "python3"
  },
  "language_info": {
   "codemirror_mode": {
    "name": "ipython",
    "version": 3
   },
   "file_extension": ".py",
   "mimetype": "text/x-python",
   "name": "python",
   "nbconvert_exporter": "python",
   "pygments_lexer": "ipython3",
   "version": "3.9.9"
  }
 },
 "nbformat": 4,
 "nbformat_minor": 5
}
