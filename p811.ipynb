{
 "cells": [
  {
   "cell_type": "code",
   "execution_count": 1,
   "id": "2a60a9b7-f8c9-4f88-9188-8b412651bcd8",
   "metadata": {},
   "outputs": [],
   "source": [
    "#Problem 8.11 Molniya Orbit"
   ]
  },
  {
   "cell_type": "code",
   "execution_count": 2,
   "id": "e36d9203-7ada-4d5d-9715-e13f8739f15a",
   "metadata": {},
   "outputs": [
    {
     "name": "stdout",
     "output_type": "stream",
     "text": [
      "Hi!\n",
      "I include Numpy!\n",
      "For some Help run:\n",
      "- basics_info()\n",
      "- detlef()\n"
     ]
    }
   ],
   "source": [
    "%run -i basics.py"
   ]
  },
  {
   "cell_type": "raw",
   "id": "e91d1423-cc07-41ee-9ff1-8f36d27ca45d",
   "metadata": {},
   "source": [
    "Perigee altitude = 600 km\n",
    "Orbital period = Half a sidereal day + 17.319 82 s \n",
    "Longitude of ascending node = 120◦\n",
    "Argument of perigee = 270◦\n",
    "True anomaly = 170◦\n"
   ]
  },
  {
   "cell_type": "code",
   "execution_count": 3,
   "id": "bd2d2dc3-e410-46c7-a617-8fc8b124d79a",
   "metadata": {},
   "outputs": [
    {
     "data": {
      "text/plain": [
       "(26568.879927754395, 1.1071487177940904, 63.43494882292201)"
      ]
     },
     "execution_count": 3,
     "metadata": {},
     "output_type": "execute_result"
    }
   ],
   "source": [
    "rp=600 \n",
    "P=d_sederial/2 +17.31982 #P=2*pi(a**3/m[3])**0.5\n",
    "i=np.arcsin(2/5**0.5) # or 116.565 because of Molniya Orbit\n",
    "\n",
    "e=0.7373566349946419 # because of Molniya Orbit\n",
    "\n",
    "a=(P**2/(4*pi**2)*me)**(1/3)\n",
    "a, i, np.rad2deg(i)"
   ]
  },
  {
   "cell_type": "markdown",
   "id": "0ef28f7a-5fbb-448b-98f8-73c5c7eafeb1",
   "metadata": {
    "tags": []
   },
   "source": [
    "#### Regression of Nodes "
   ]
  },
  {
   "cell_type": "code",
   "execution_count": 10,
   "id": "2f332448-2192-4127-83df-a0fd310975b5",
   "metadata": {},
   "outputs": [],
   "source": [
    "\n",
    "n=(mu[3]/a**3)**0.5\n",
    "ans1=(-1)*3*n*J2*R[3]**2\n",
    "ans2=2*(a**2)\n",
    "ans3=(1-e**2)**2\n",
    "\n",
    "Odot=ans1/(ans2*ans3)*cos(i) #rad/sek\n",
    "\n",
    "Odot_d= Odot/pi*180                                  #deg/sek"
   ]
  },
  {
   "cell_type": "code",
   "execution_count": null,
   "id": "efe841bd-9eb5-4d8a-a02e-f0b311104dd6",
   "metadata": {},
   "outputs": [
    {
     "data": {
      "text/plain": [
       "(-2.9303945042776518e-08, -0.0723635053041389)"
      ]
     },
     "execution_count": 5,
     "metadata": {},
     "output_type": "execute_result"
    }
   ],
   "source": [
    "Odot, Odot_d*P"
   ]
  },
  {
   "cell_type": "code",
   "execution_count": null,
   "id": "13ef21dc-c903-445a-899d-c98fba7ed840",
   "metadata": {},
   "outputs": [
    {
     "data": {
      "text/plain": [
       "-2.9303945042776515e-08"
      ]
     },
     "execution_count": 6,
     "metadata": {},
     "output_type": "execute_result"
    }
   ],
   "source": [
    "dΩdt = - (3 * me**0.5 * J2 * Re**2) / (2 * a**3.5 * (1 - e**2)**2) * np.cos(i); dΩdt"
   ]
  },
  {
   "cell_type": "code",
   "execution_count": null,
   "id": "1955dfcd-bc7c-4920-b756-ed3af975451b",
   "metadata": {},
   "outputs": [
    {
     "data": {
      "text/plain": [
       "-0.07236350530413889"
      ]
     },
     "execution_count": 7,
     "metadata": {},
     "output_type": "execute_result"
    }
   ],
   "source": [
    "dΩdt*P/pi*180"
   ]
  },
  {
   "cell_type": "code",
   "execution_count": 8,
   "id": "17f459c3-24bd-468c-a16f-ab9e6f69c025",
   "metadata": {},
   "outputs": [
    {
     "data": {
      "text/plain": [
       "-52.984969742828135"
      ]
     },
     "execution_count": 8,
     "metadata": {},
     "output_type": "execute_result"
    }
   ],
   "source": [
    "dΩdt/pi*180* 86400 * 365.25"
   ]
  },
  {
   "cell_type": "code",
   "execution_count": 9,
   "id": "fc725c20-f798-428f-a5e8-2d95469e2872",
   "metadata": {},
   "outputs": [
    {
     "name": "stdout",
     "output_type": "stream",
     "text": [
      "43099.4s  per Orbit\n",
      "26568.9km SMA Orbit\n"
     ]
    }
   ],
   "source": [
    "print(fun(P)+'s  per Orbit')\n",
    "print(fun(a)+'km SMA Orbit')"
   ]
  },
  {
   "cell_type": "code",
   "execution_count": null,
   "id": "357172c3-5585-4b74-b5af-4d3a7ead7bec",
   "metadata": {},
   "outputs": [],
   "source": []
  },
  {
   "cell_type": "code",
   "execution_count": null,
   "id": "b47db328-bfe8-48de-a980-340e5902b3be",
   "metadata": {},
   "outputs": [],
   "source": []
  }
 ],
 "metadata": {
  "kernelspec": {
   "display_name": "Python 3 (ipykernel)",
   "language": "python",
   "name": "python3"
  },
  "language_info": {
   "codemirror_mode": {
    "name": "ipython",
    "version": 3
   },
   "file_extension": ".py",
   "mimetype": "text/x-python",
   "name": "python",
   "nbconvert_exporter": "python",
   "pygments_lexer": "ipython3",
   "version": "3.9.9"
  }
 },
 "nbformat": 4,
 "nbformat_minor": 5
}
