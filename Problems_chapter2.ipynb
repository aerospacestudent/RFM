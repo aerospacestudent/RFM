{
 "cells": [
  {
   "cell_type": "code",
   "execution_count": 1,
   "id": "c0c07ea6-a5e2-4c7f-8800-b2a50b305cc2",
   "metadata": {},
   "outputs": [],
   "source": [
    "#Problem 2.13"
   ]
  },
  {
   "cell_type": "code",
   "execution_count": 2,
   "id": "ea84e3ff-2af5-49d3-9852-ef17df9b493a",
   "metadata": {},
   "outputs": [
    {
     "name": "stdout",
     "output_type": "stream",
     "text": [
      "radius of s/c:\n",
      "42164.168 km\n",
      "velocity is:\n",
      "3.075 km/s\n",
      "orbit height(altitiude) is:\n",
      "35786.03 km\n",
      "period time: 86164.1 s\n"
     ]
    }
   ],
   "source": [
    "import numpy as py\n",
    "import scipy\n",
    "import math as m\n",
    "\n",
    "R=6378.14          #earth radius in km\n",
    "Te=86164.0905      # Period time in seconds\n",
    "µ=398600.4         # in km^3/s^2\n",
    "x= pow(Te,2)*µ/(4*pow(m.pi,2))\n",
    "r= m.pow(x,1/3)\n",
    "v=pow(µ/r,1/2)\n",
    "alt=r-R\n",
    "Tn=2*m.pi*pow(pow(r,3)/µ,1/2) #test of equation\n",
    "#print line\n",
    "r=format(r, '.8')\n",
    "print('radius of s/c:')\n",
    "print(r,'km')\n",
    "print('velocity is:')\n",
    "print(format(v,'.4'), 'km/s')\n",
    "print('orbit height(altitiude) is:')\n",
    "print(format(alt,'.7'), 'km')\n",
    "\n",
    "print('period time:',format(Tn,'.6'),'s')"
   ]
  },
  {
   "cell_type": "code",
   "execution_count": 3,
   "id": "ddf3b180-6824-4003-b805-7fbf1e724b08",
   "metadata": {},
   "outputs": [],
   "source": [
    "#for inclination of 0° we call this Orbit GEO\n",
    "#for other inclinations we use GSO- Geo synchronous Orbit"
   ]
  },
  {
   "cell_type": "code",
   "execution_count": 4,
   "id": "cd5d4827-bec7-4c7a-8d34-8115fc73fe9f",
   "metadata": {},
   "outputs": [],
   "source": [
    "#Problem 2.14 vmax orbit earth"
   ]
  },
  {
   "cell_type": "code",
   "execution_count": 5,
   "id": "c0a4d8e7-bfd5-4c2b-a57c-cf0a2f1a5341",
   "metadata": {},
   "outputs": [
    {
     "name": "stdout",
     "output_type": "stream",
     "text": [
      "7.905 km/s\n"
     ]
    }
   ],
   "source": [
    "µ=398600.4\n",
    "r=6378.15\n",
    "vmax=pow(µ/r,1/2)\n",
    "print(format(vmax,'.4'),'km/s')"
   ]
  },
  {
   "cell_type": "code",
   "execution_count": 6,
   "id": "0fbd76eb-f4b2-4c8f-a337-a519cdb08618",
   "metadata": {},
   "outputs": [],
   "source": [
    "#Problem 2.15"
   ]
  },
  {
   "cell_type": "code",
   "execution_count": 14,
   "id": "16a8f783-155a-406b-baf4-9db7ee964f58",
   "metadata": {},
   "outputs": [
    {
     "name": "stdout",
     "output_type": "stream",
     "text": [
      "48900.1 km/s\n",
      "acceleation difference in km/s^2: -776.3\n",
      "-79134.1 ∂a in (g)\n"
     ]
    }
   ],
   "source": [
    "r=111 #km\n",
    "ms=132712459935.5 #µ of the Sun\n",
    "mns=2*ms\n",
    "vhead=pow(mns/(r+0.001),1/2)\n",
    "vfeet=pow(mns/(r-0.001),1/2)\n",
    "v=pow(mns/(r),1/2)\n",
    "deltaa=mns*(1/pow((r+0.001),2)-1/pow((r-0.001),2))\n",
    "#printline\n",
    "print(format(v,'.6'),'km/s')\n",
    "print('acceleation difference in km/s^2:', format(deltaa,'.4'))\n",
    "print(format(deltaa/(9.81/1000),'.6'),'∂a in (g)')"
   ]
  },
  {
   "cell_type": "code",
   "execution_count": null,
   "id": "b1021190-1f33-478e-809c-ea94f48490f2",
   "metadata": {},
   "outputs": [],
   "source": []
  }
 ],
 "metadata": {
  "kernelspec": {
   "display_name": "Python 3 (ipykernel)",
   "language": "python",
   "name": "python3"
  },
  "language_info": {
   "codemirror_mode": {
    "name": "ipython",
    "version": 3
   },
   "file_extension": ".py",
   "mimetype": "text/x-python",
   "name": "python",
   "nbconvert_exporter": "python",
   "pygments_lexer": "ipython3",
   "version": "3.9.9"
  }
 },
 "nbformat": 4,
 "nbformat_minor": 5
}
