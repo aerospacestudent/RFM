{
 "cells": [
  {
   "cell_type": "markdown",
   "id": "e59d028b",
   "metadata": {},
   "source": [
    "This notebook was created exclusively for the course \"Raumflugmechanik\"\n",
    "(Spaceflight Dynamics) at FH Aachen University of Applied Sciences\n",
    "by Prof. Dr. Bernd Dachwald on 04 December 2021."
   ]
  },
  {
   "cell_type": "code",
   "execution_count": 1,
   "id": "71004ec2",
   "metadata": {},
   "outputs": [],
   "source": [
    "import numpy as np\n",
    "import matplotlib.pyplot as plt"
   ]
  },
  {
   "cell_type": "code",
   "execution_count": 2,
   "id": "b3d43c59",
   "metadata": {},
   "outputs": [],
   "source": [
    "# Constants\n",
    "μ    = 398600.4    # Earth gravitational parameter in [km^3/s^2]\n",
    "R    = 6378.14     # Earth radius in [km]\n",
    "J2   = 0.00108263  # Earth J2\n",
    "Tsid = 86164.09    # Sideral day in [s]"
   ]
  },
  {
   "cell_type": "code",
   "execution_count": 3,
   "id": "318c0722-7be0-45ab-bc80-411607373f07",
   "metadata": {},
   "outputs": [
    {
     "data": {
      "text/plain": [
       "43099.364819999995"
      ]
     },
     "execution_count": 3,
     "metadata": {},
     "output_type": "execute_result"
    }
   ],
   "source": [
    "# Given values\n",
    "hp = 600              # Perigee altitude in [km]\n",
    "rp = R + hp           # Perigee radius in [km]\n",
    "f = 170               # True anomaly in [°]\n",
    "P = Tsid/2 + 17.31982 # Orbital period in [s]\n",
    "P                     # The addition of 17.31982 seconds is for the correction of the regression of the nodes"
   ]
  },
  {
   "cell_type": "markdown",
   "id": "e8f35c56-176c-4c9a-9d01-c1089632fbdc",
   "metadata": {},
   "source": [
    "#### Calculate critical inclination"
   ]
  },
  {
   "cell_type": "code",
   "execution_count": 4,
   "id": "75d52903-a2d9-4c70-864a-8cb628474355",
   "metadata": {},
   "outputs": [
    {
     "data": {
      "text/plain": [
       "63.43494882292201"
      ]
     },
     "execution_count": 4,
     "metadata": {},
     "output_type": "execute_result"
    }
   ],
   "source": [
    "i = np.arcsin(2/5**0.5)\n",
    "np.rad2deg(i)  # Critical inclination in [°]"
   ]
  },
  {
   "cell_type": "markdown",
   "id": "ed6739ba-9e9d-4350-9270-6be2b85598a9",
   "metadata": {
    "tags": []
   },
   "source": [
    "#### Calculate apogee"
   ]
  },
  {
   "cell_type": "code",
   "execution_count": 5,
   "id": "9841d3bd-205d-4f4e-932d-bdbdd6d9066e",
   "metadata": {},
   "outputs": [
    {
     "data": {
      "text/plain": [
       "26568.87981867595"
      ]
     },
     "execution_count": 5,
     "metadata": {},
     "output_type": "execute_result"
    }
   ],
   "source": [
    "a = ((P / (2*np.pi))**2 * μ)**(1/3); a  # Semi-major axis in [km]"
   ]
  },
  {
   "cell_type": "code",
   "execution_count": 6,
   "id": "3bd9ac16-67ac-407b-bfb1-3c08e5d56aa8",
   "metadata": {},
   "outputs": [
    {
     "data": {
      "text/plain": [
       "0.7373566349946419"
      ]
     },
     "execution_count": 6,
     "metadata": {},
     "output_type": "execute_result"
    }
   ],
   "source": [
    "e = 1 - rp / a; e  # Eccentricity"
   ]
  },
  {
   "cell_type": "code",
   "execution_count": 7,
   "id": "b42f1dcf-6402-40d2-b129-44b87ae01649",
   "metadata": {},
   "outputs": [
    {
     "data": {
      "text/plain": [
       "(46159.6196373519, 39781.4796373519)"
      ]
     },
     "execution_count": 7,
     "metadata": {},
     "output_type": "execute_result"
    }
   ],
   "source": [
    "ra = a * (1 + e)\n",
    "ra, ra - R  # Apogee radius and altitude in [km]"
   ]
  },
  {
   "cell_type": "markdown",
   "id": "90f0e086-6377-4041-9b39-5624b4fa23c5",
   "metadata": {},
   "source": [
    "#### Calculate regression of the nodes"
   ]
  },
  {
   "cell_type": "code",
   "execution_count": 8,
   "id": "9a80d96d-ceb2-49ee-b5af-c71fcec7cf60",
   "metadata": {},
   "outputs": [
    {
     "data": {
      "text/plain": [
       "-2.9303945463851886e-08"
      ]
     },
     "execution_count": 8,
     "metadata": {},
     "output_type": "execute_result"
    }
   ],
   "source": [
    "dΩdt = - (3 * μ**0.5 * J2 * R**2) / (2 * a**3.5 * (1 - e**2)**2) * np.cos(i); dΩdt"
   ]
  },
  {
   "cell_type": "code",
   "execution_count": 9,
   "id": "03d1c3dc",
   "metadata": {},
   "outputs": [
    {
     "data": {
      "text/plain": [
       "-0.07236350589831515"
      ]
     },
     "execution_count": 9,
     "metadata": {},
     "output_type": "execute_result"
    }
   ],
   "source": [
    "np.rad2deg(dΩdt) * P  # Regression of the nodes in [°/orbit]"
   ]
  },
  {
   "cell_type": "code",
   "execution_count": 10,
   "id": "e7183620",
   "metadata": {},
   "outputs": [
    {
     "data": {
      "text/plain": [
       "-52.9849705041818"
      ]
     },
     "execution_count": 10,
     "metadata": {},
     "output_type": "execute_result"
    }
   ],
   "source": [
    "np.rad2deg(dΩdt) * 86400 * 365.25 # Regression of the nodes in [°/yr]"
   ]
  },
  {
   "cell_type": "code",
   "execution_count": 11,
   "id": "ada8f097-d2ba-4a83-9714-dce9b0a099cb",
   "metadata": {},
   "outputs": [
    {
     "data": {
      "text/plain": [
       "0.07236350085051572"
      ]
     },
     "execution_count": 11,
     "metadata": {},
     "output_type": "execute_result"
    }
   ],
   "source": [
    "ωE = 2*np.pi / Tsid  # Earth angular velocity in [°/sidereal day]\n",
    "EarthRotAngle = (P - Tsid/2) * ωE\n",
    "np.rad2deg(EarthRotAngle)  # Additional rotation angle of Earth during 17.32 seconds in [°]"
   ]
  },
  {
   "cell_type": "code",
   "execution_count": 12,
   "id": "6cd7230a-c86d-4dcb-abb3-08079b87676c",
   "metadata": {},
   "outputs": [
    {
     "data": {
      "text/plain": [
       "-8.810072007862935e-11"
      ]
     },
     "execution_count": 12,
     "metadata": {},
     "output_type": "execute_result"
    }
   ],
   "source": [
    "Δ = dΩdt * P + EarthRotAngle; Δ"
   ]
  },
  {
   "cell_type": "markdown",
   "id": "224b9a57-a8e1-469f-8039-0e3715031c42",
   "metadata": {
    "tags": []
   },
   "source": [
    "#### Calculate swath width"
   ]
  },
  {
   "cell_type": "code",
   "execution_count": 13,
   "id": "b75e13fd-1d6d-4f03-ad82-d4f3b6013d86",
   "metadata": {},
   "outputs": [
    {
     "data": {
      "text/plain": [
       "44271.383666778274"
      ]
     },
     "execution_count": 13,
     "metadata": {},
     "output_type": "execute_result"
    }
   ],
   "source": [
    "r = a * (1 - e**2) / (1 + e * np.cos(np.deg2rad(f))); r  # Radius in [km]"
   ]
  },
  {
   "cell_type": "code",
   "execution_count": 14,
   "id": "5ee7de92-0c6b-4f34-8cea-cb1910232734",
   "metadata": {},
   "outputs": [
    {
     "data": {
      "text/plain": [
       "(1.42622409622434, 81.7166213535149)"
      ]
     },
     "execution_count": 14,
     "metadata": {},
     "output_type": "execute_result"
    }
   ],
   "source": [
    "λ0 = np.arccos(R / r)\n",
    "λ0, np.rad2deg(λ0)  # Central angle to the true horizon in [rad] and [°]"
   ]
  },
  {
   "cell_type": "code",
   "execution_count": 15,
   "id": "00d9bb86-700b-4dd1-b3f2-afc39b8cae7c",
   "metadata": {},
   "outputs": [
    {
     "data": {
      "text/plain": [
       "18193.313914184626"
      ]
     },
     "execution_count": 15,
     "metadata": {},
     "output_type": "execute_result"
    }
   ],
   "source": [
    "S0 = 2 * λ0 * R; S0  # Maximum swath with in [km]"
   ]
  },
  {
   "cell_type": "code",
   "execution_count": null,
   "id": "7f7a7eb3",
   "metadata": {},
   "outputs": [],
   "source": []
  }
 ],
 "metadata": {
  "kernelspec": {
   "display_name": "Python 3 (ipykernel)",
   "language": "python",
   "name": "python3"
  },
  "language_info": {
   "codemirror_mode": {
    "name": "ipython",
    "version": 3
   },
   "file_extension": ".py",
   "mimetype": "text/x-python",
   "name": "python",
   "nbconvert_exporter": "python",
   "pygments_lexer": "ipython3",
   "version": "3.9.9"
  }
 },
 "nbformat": 4,
 "nbformat_minor": 5
}
