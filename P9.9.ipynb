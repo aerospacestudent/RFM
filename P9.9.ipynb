{
 "cells": [
  {
   "cell_type": "code",
   "execution_count": 1,
   "id": "2c3e1d01-28a3-4cbe-8b05-944537a57a2d",
   "metadata": {},
   "outputs": [],
   "source": [
    "import numpy as np\n",
    "def form8(x):\n",
    "    x=format(x,'.8')\n",
    "    return x\n",
    "def form(x):\n",
    "    x=format(x,'.4')\n",
    "    return x"
   ]
  },
  {
   "cell_type": "code",
   "execution_count": 13,
   "id": "d7ea8520-225c-4186-8aac-ea74ed181820",
   "metadata": {},
   "outputs": [
    {
     "name": "stdout",
     "output_type": "stream",
     "text": [
      "25454.206km\n"
     ]
    }
   ],
   "source": [
    "me=398600.4\n",
    "ms=132712439935.5\n",
    "\n",
    "Rl=6378.14                #km radius Earth\n",
    "hl=200                    #orbit height earth km\n",
    "rp=Rl+hl\n",
    "c3=2.945**2\n",
    "b=rp*(2*me/(rp*c3)+1)**0.5\n",
    "print(form8(b)+'km')"
   ]
  },
  {
   "cell_type": "code",
   "execution_count": 14,
   "id": "06a0a5aa-35b7-4678-90ea-bbb477350c77",
   "metadata": {},
   "outputs": [
    {
     "name": "stdout",
     "output_type": "stream",
     "text": [
      "0.5058rad\n"
     ]
    },
    {
     "data": {
      "text/plain": [
       "28.979891165179207"
      ]
     },
     "execution_count": 14,
     "metadata": {},
     "output_type": "execute_result"
    }
   ],
   "source": [
    "tan_beta=b*c3/me\n",
    "beta=np.arctan(tan_beta)\n",
    "print(form(beta)+'rad')\n",
    "beta*180/np.pi #degre"
   ]
  },
  {
   "cell_type": "code",
   "execution_count": null,
   "id": "7b025f25-fdae-4904-ab94-d655b1d1f6b6",
   "metadata": {},
   "outputs": [],
   "source": []
  }
 ],
 "metadata": {
  "kernelspec": {
   "display_name": "Python 3 (ipykernel)",
   "language": "python",
   "name": "python3"
  },
  "language_info": {
   "codemirror_mode": {
    "name": "ipython",
    "version": 3
   },
   "file_extension": ".py",
   "mimetype": "text/x-python",
   "name": "python",
   "nbconvert_exporter": "python",
   "pygments_lexer": "ipython3",
   "version": "3.9.9"
  }
 },
 "nbformat": 4,
 "nbformat_minor": 5
}
