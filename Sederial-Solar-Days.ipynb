{
 "cells": [
  {
   "cell_type": "markdown",
   "id": "4804f087-c3d3-4227-b125-171ebd7b9680",
   "metadata": {},
   "source": [
    "##### Sederial Day vs Solar Days"
   ]
  },
  {
   "cell_type": "markdown",
   "id": "d5193651-fb62-4be2-b7a9-8b4e596c264d",
   "metadata": {
    "jp-MarkdownHeadingCollapsed": true,
    "tags": []
   },
   "source": [
    "##### import"
   ]
  },
  {
   "cell_type": "code",
   "execution_count": 1,
   "id": "9ebef860-e26b-46c8-a7c1-2d754f17074e",
   "metadata": {},
   "outputs": [
    {
     "name": "stdout",
     "output_type": "stream",
     "text": [
      "Hi!\n",
      "I include Numpy!\n",
      "For some Help run:\n",
      "- basics_info()\n",
      "- detlef()\n"
     ]
    }
   ],
   "source": [
    "%run -i basics.py"
   ]
  },
  {
   "cell_type": "markdown",
   "id": "340b0e94-834c-4454-b211-49c36b11ef7a",
   "metadata": {},
   "source": [
    "##### calculation"
   ]
  },
  {
   "cell_type": "code",
   "execution_count": 22,
   "id": "7db230e2-48a3-47e5-ba30-5803cf9370ca",
   "metadata": {},
   "outputs": [
    {
     "data": {
      "text/plain": [
       "'Period Time of Earth is 8766.2hours'"
      ]
     },
     "execution_count": 22,
     "metadata": {},
     "output_type": "execute_result"
    }
   ],
   "source": [
    "a=1.000003\n",
    "a=a*auc\n",
    "dy=365.25 # Days per year\n",
    "\n",
    "P=2*pi*(a**3/ms)**0.5\n",
    "\n",
    "'Period Time of Earth is '+fun(P/60/60)+'hours'"
   ]
  },
  {
   "cell_type": "code",
   "execution_count": 23,
   "id": "14c58f43-4384-402a-8a5a-329c48d2332f",
   "metadata": {},
   "outputs": [
    {
     "data": {
      "text/plain": [
       "'Time per Day in normal Year of 365.25Days: 24.001hours'"
      ]
     },
     "execution_count": 23,
     "metadata": {},
     "output_type": "execute_result"
    }
   ],
   "source": [
    "td=P/dy\n",
    "'Time per Day in normal Year of 365.25Days: '+fun(td/60/60)+'hours' #Solar Days are 24Hours"
   ]
  },
  {
   "cell_type": "code",
   "execution_count": 25,
   "id": "1f7e88d0-073f-49c0-9728-1204b211d7b0",
   "metadata": {},
   "outputs": [
    {
     "data": {
      "text/plain": [
       "'Time per sederial Day in normal Year of 365.25Days: 8.6166e+04seconds'"
      ]
     },
     "execution_count": 25,
     "metadata": {},
     "output_type": "execute_result"
    }
   ],
   "source": [
    "tsederial=P/(dy+1)\n",
    "'Time per sederial Day in normal Year of 365.25Days: '+fun(tsederial)+'seconds' #Solar Days are 24Hours"
   ]
  },
  {
   "cell_type": "code",
   "execution_count": null,
   "id": "46ff187f-3d39-4f44-ba10-416f5553702f",
   "metadata": {},
   "outputs": [],
   "source": []
  }
 ],
 "metadata": {
  "kernelspec": {
   "display_name": "Python 3 (ipykernel)",
   "language": "python",
   "name": "python3"
  },
  "language_info": {
   "codemirror_mode": {
    "name": "ipython",
    "version": 3
   },
   "file_extension": ".py",
   "mimetype": "text/x-python",
   "name": "python",
   "nbconvert_exporter": "python",
   "pygments_lexer": "ipython3",
   "version": "3.9.9"
  }
 },
 "nbformat": 4,
 "nbformat_minor": 5
}
