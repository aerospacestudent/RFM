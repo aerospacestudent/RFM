{
 "cells": [
  {
   "cell_type": "markdown",
   "id": "1291ca69-abd5-406b-9cf0-4168e13ce7ad",
   "metadata": {},
   "source": [
    "## Übung 3"
   ]
  },
  {
   "cell_type": "markdown",
   "id": "c5c2229b-72e9-4997-bcde-d299f42af082",
   "metadata": {
    "tags": []
   },
   "source": [
    "### 14.28"
   ]
  },
  {
   "cell_type": "code",
   "execution_count": 1,
   "id": "94238457-07f5-4cec-83cd-bab2eea42fc4",
   "metadata": {},
   "outputs": [
    {
     "data": {
      "text/plain": [
       "83.33333333333334"
      ]
     },
     "execution_count": 1,
     "metadata": {},
     "output_type": "execute_result"
    }
   ],
   "source": [
    "m_dot = 100\n",
    "pct = 10*10**5\n",
    "Tct0 = 2500\n",
    "Tct1 = 3600\n",
    "m1= (Tct0/Tct1)**0.5 * m_dot\n",
    "m1"
   ]
  },
  {
   "cell_type": "markdown",
   "id": "390d8b21-1082-4e82-8e4e-703ace4d5e3c",
   "metadata": {
    "tags": []
   },
   "source": [
    "### 14.29"
   ]
  },
  {
   "cell_type": "raw",
   "id": "3d084242-127e-432b-b9fe-9abc6c6f1f97",
   "metadata": {},
   "source": [
    "Ma2 = 2 sein für Düsenaustritt"
   ]
  },
  {
   "cell_type": "code",
   "execution_count": 2,
   "id": "3db447da-6b80-4054-bd8c-d526463391c9",
   "metadata": {},
   "outputs": [],
   "source": [
    "k = 1.4\n",
    "dv =0 #Düsenverhältniss"
   ]
  },
  {
   "cell_type": "raw",
   "id": "a1196083-36d4-400d-afad-9a48c735f8db",
   "metadata": {},
   "source": [
    "Gesucht ist durchmesserverhältniss um Ma = 2 zu erreichen"
   ]
  },
  {
   "cell_type": "raw",
   "id": "6442436d-bee7-4241-84b5-da5bf42ab917",
   "metadata": {},
   "source": [
    " D_krit / D_auslass = ( A_auslass / A_krit ) ** 0.5"
   ]
  },
  {
   "cell_type": "markdown",
   "id": "db65e6d5-7eec-46ff-921a-5fe9d8a8991f",
   "metadata": {},
   "source": [
    "### 14.3"
   ]
  },
  {
   "cell_type": "code",
   "execution_count": null,
   "id": "bedd9707-b64a-4174-8665-b1a2000cbb23",
   "metadata": {},
   "outputs": [],
   "source": []
  }
 ],
 "metadata": {
  "kernelspec": {
   "display_name": "Python 3 (ipykernel)",
   "language": "python",
   "name": "python3"
  },
  "language_info": {
   "codemirror_mode": {
    "name": "ipython",
    "version": 3
   },
   "file_extension": ".py",
   "mimetype": "text/x-python",
   "name": "python",
   "nbconvert_exporter": "python",
   "pygments_lexer": "ipython3",
   "version": "3.9.9"
  }
 },
 "nbformat": 4,
 "nbformat_minor": 5
}
