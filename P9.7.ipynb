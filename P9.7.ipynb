{
 "cells": [
  {
   "cell_type": "code",
   "execution_count": 1,
   "id": "662cd1dc-401b-4280-95d7-3e22032e226f",
   "metadata": {},
   "outputs": [],
   "source": [
    "import numpy as np\n",
    "pi= np.pi\n",
    "array=np.linspace(0,100,10)    #funktioniert nicht! nimmt das selbe array und überschreibt die Werte..."
   ]
  },
  {
   "cell_type": "code",
   "execution_count": 2,
   "id": "59548386-2b51-4984-b4d9-59425748a3d1",
   "metadata": {},
   "outputs": [
    {
     "name": "stdout",
     "output_type": "stream",
     "text": [
      "188770910.0\n"
     ]
    }
   ],
   "source": [
    "T=np.linspace(0,100,10)\n",
    "mu=np.linspace(0,100,10)\n",
    "a=np.linspace(0,100,10)\n",
    "v=np.linspace(0,100,10)\n",
    "ap=np.linspace(0,100,10)\n",
    "\n",
    "\n",
    "mu[0]=398600.4        #µ leabing planet earth\n",
    "mu[1]=42828.3         #µ larrival planet mars\n",
    "mu[2]= 132712439935.5 #µ_sun km^3/s^2\n",
    "\n",
    "           #launch planet\n",
    "a[0]=149.598*10**6     # distance earth sun km l:=leaving\n",
    "v[0]= 29.7847          # orbit velocity of heliocentric earth km/s\n",
    "\n",
    "            # arrival planet\n",
    "a[1]=227.94382*10**6      # S-M-A mars sun km a:=arrival\n",
    "v[1]=(mu[2]/a[1])**(1/2)       #orbit velocity of heliocentric Mars km/s  \n",
    "\n",
    "Rl=6378.14                #km radius Earth\n",
    "hl=200                    #orbit height earth km\n",
    "ap[0]=Rl+hl               # parking Orbit radius earth km\n",
    "\n",
    "\n",
    "raa=20000                 #apocentrum arrival mars km\n",
    "rpa=4000                  #perocentrum arrival mars km\n",
    "aa=raa+rpa\n",
    "ap[1]=aa/2                #orbit semi-major axis at mars\n",
    "\n",
    "a[4]=(a[0]+a[1])/2        # S-M-A of transfer-ellipse\n",
    "print (a[4])                                                         #?!"
   ]
  },
  {
   "cell_type": "code",
   "execution_count": 3,
   "id": "88d85d26-bb43-4d45-9110-22e5cbe103e7",
   "metadata": {},
   "outputs": [
    {
     "name": "stdout",
     "output_type": "stream",
     "text": [
      "T[0]\n",
      "31558236.94s\n",
      "365.257   days\n",
      "12.1752   months\n",
      "T[1]\n",
      "59356158.33s\n",
      "686.993   days\n",
      "22.8998   months\n",
      "T[2]\n",
      "0.001806780026s\n",
      "2.09118e-08   days\n",
      "6.9706e-10   months\n",
      "T[3]\n",
      "0.003319266856s\n",
      "3.84174e-08   days\n",
      "1.28058e-09   months\n",
      "T[4]\n",
      "44732858.95s\n",
      "517.741   days\n",
      "17.258   months\n"
     ]
    }
   ],
   "source": [
    "i=0\n",
    "while i<5:\n",
    "    x=0\n",
    "    T[i]=2*pi*((a[i]**3)/mu[2])**0.5\n",
    "    print('T[%s]'%i)\n",
    "    print(format(T[i],'.10')+'s')\n",
    "    x=T[i]/60/60/24\n",
    "    print(format(x,'.6')+'   days')\n",
    "    x=x/30\n",
    "    print(format(x,'.6')+'   months')\n",
    "    i=i+1\n",
    "    "
   ]
  },
  {
   "cell_type": "code",
   "execution_count": 4,
   "id": "85d9c7f5-8430-437e-a1d4-1cf89b529870",
   "metadata": {},
   "outputs": [
    {
     "name": "stdout",
     "output_type": "stream",
     "text": [
      "22366429.48 seconds\n",
      "258.871   days\n",
      "8.62902   months\n"
     ]
    }
   ],
   "source": [
    "Tt=T[4]/2#Transfer ellipse time for Hohmann Transfer to Mars\n",
    "print(format(Tt,'.10')+' seconds')\n",
    "x=Tt/60/60/24\n",
    "print(format(x,'.6')+'   days')\n",
    "x=x/30\n",
    "print(format(x,'.6')+'   months')"
   ]
  },
  {
   "cell_type": "code",
   "execution_count": 5,
   "id": "e16b365c-246a-43dc-a5e2-be4e239968b9",
   "metadata": {},
   "outputs": [
    {
     "name": "stdout",
     "output_type": "stream",
     "text": [
      "Orbital Position Change of Mars during Transit of S/C \n",
      "Angle1= 135.654deg\n",
      "Angle which Mars is behind earth at launch must be 44.346deg\n"
     ]
    }
   ],
   "source": [
    "#Where is mars at launch?            ->Angle0\n",
    "#where is earth for arrival at Mars? ->Angle1\n",
    "d=[]\n",
    "i=0\n",
    "while i<2:\n",
    "    x=(T[4]/2)/T[i]\n",
    "    x=x*360\n",
    "    d.append(x)\n",
    "    if i==1:\n",
    "        print('Orbital Position Change of Mars during Transit of S/C \\nAngle%i='%i,format(d[i],'.6')+'deg')\n",
    "    i=i+1\n",
    "ded=180-d[1]\n",
    "print('Angle which Mars is behind earth at launch must be',format(ded,'.5')+'deg')"
   ]
  },
  {
   "cell_type": "code",
   "execution_count": 6,
   "id": "568ce27c-a493-40d0-aecf-164c6c60a198",
   "metadata": {},
   "outputs": [
    {
     "name": "stdout",
     "output_type": "stream",
     "text": [
      "2.3676131510255067\n",
      "255.14462758118043\n",
      "75.14462758118043\n"
     ]
    }
   ],
   "source": [
    "z=2*pi*T[4]/2/T[1]  #Value of Mars rotaion while Transfer duration in radian\n",
    "print(z)\n",
    "print(d[0])\n",
    "print(d[0]-180)    # Angle of earth relative to Mars while Arrival"
   ]
  },
  {
   "cell_type": "code",
   "execution_count": null,
   "id": "8ffbc2b4-890d-408c-93b1-33409faac0a3",
   "metadata": {},
   "outputs": [],
   "source": []
  },
  {
   "cell_type": "code",
   "execution_count": null,
   "id": "f242a56f-f861-45fd-8f06-b8e61a585df1",
   "metadata": {},
   "outputs": [],
   "source": []
  }
 ],
 "metadata": {
  "kernelspec": {
   "display_name": "Python 3 (ipykernel)",
   "language": "python",
   "name": "python3"
  },
  "language_info": {
   "codemirror_mode": {
    "name": "ipython",
    "version": 3
   },
   "file_extension": ".py",
   "mimetype": "text/x-python",
   "name": "python",
   "nbconvert_exporter": "python",
   "pygments_lexer": "ipython3",
   "version": "3.9.9"
  }
 },
 "nbformat": 4,
 "nbformat_minor": 5
}
