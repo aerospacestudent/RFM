{
 "cells": [
  {
   "cell_type": "code",
   "execution_count": 1,
   "id": "1f1b5e2c-a456-4216-8187-439081e05499",
   "metadata": {},
   "outputs": [],
   "source": [
    "import numpy as np\n",
    "def amount(x):          #equalises the negative sign\n",
    "    x=x**2\n",
    "    x=x**0.5\n",
    "    return x"
   ]
  },
  {
   "cell_type": "code",
   "execution_count": 2,
   "id": "257ab55e-a28b-478a-931f-bd8d2fcd54ce",
   "metadata": {},
   "outputs": [],
   "source": [
    "name= []\n",
    "i=0\n",
    "while i<6 :\n",
    "    name.append(\"Earth\")\n",
    "    name.append(\"VENUS\")\n",
    "    i=i+1"
   ]
  },
  {
   "cell_type": "code",
   "execution_count": 3,
   "id": "3735b06d-1da0-4ebb-a395-79748b7ef52e",
   "metadata": {},
   "outputs": [],
   "source": [
    "mu=np.linspace(0,2,3)\n",
    "a=np.linspace(0,2,5)\n",
    "v=np.linspace(0,10,10)\n",
    "ap=np.linspace(0,2,2)\n",
    "e=np.linspace(0,2,2)\n",
    "\n",
    "\n",
    "mu[0]=398600.4        #µ leabing planet earth\n",
    "mu[1]=324858.8        #µ larrival planet venus\n",
    "mu[2]= 132712439935.5 #µ_sun km^3/s^2\n",
    "\n",
    "           #launch planet\n",
    "a[0]=149.598*10**6     # distance earth sun km l:=leaving\n",
    "v[0]= 29.7847          # orbit velocity of heliocentric earth km/s\n",
    "\n",
    "            # arrival planet\n",
    "a[1]=108.208*10**6      # S-M-A venus sun km a:=arrival\n",
    "v[1]=(mu[2]/a[1])**(1/2)       #orbit velocity of heliocentric VENUS km/s  \n",
    "\n",
    "Rl=6378.14                #km radius Earth\n",
    "hl=200                    #orbit height earth km\n",
    "ap[0]=Rl+hl               # parking Orbit radius earth km\n",
    "e[0]=0\n",
    "\n",
    "raa=20000                 #apocentrum arrival VENUS km\n",
    "rpa=4000                  #perocentrum arrival VENUS km\n",
    "aa=raa+rpa\n",
    "ap[1]=aa/2                #orbit semi-major axis at Venus\n",
    "e[1]=0.2"
   ]
  },
  {
   "cell_type": "code",
   "execution_count": 4,
   "id": "e9265f28-b623-428d-8db7-9f446b8f7920",
   "metadata": {},
   "outputs": [
    {
     "name": "stdout",
     "output_type": "stream",
     "text": [
      "Inbound Maneuver\n"
     ]
    }
   ],
   "source": [
    "a[4]=(a[0]+a[1])/2 # S-M-A of transfer-ellipse \n",
    "\n",
    "Md=a[0]-a[1] #inbound or Outbound Maneuver?\n",
    "\n",
    "if Md<0:\n",
    "    print('Outbound Maneuver')\n",
    "else:\n",
    "    print('Inbound Maneuver')\n",
    "\n",
    "\n",
    "v[3]=(2*mu[2]/a[0]-mu[2]/a[4])**(1/2)    #Vpericentrum Transit Orbit\n",
    "v[4]=(2*mu[2]/a[1]-mu[2]/a[4])**(1/2)   #Vapocentrum Transit Orbit\n",
    "\n",
    "v[5]=amount(v[0]-v[3])                     #Vinf at SOI Earth\n",
    "v[6]=v[1]-v[4]                           #Vinf at SOI venus\n",
    "\n",
    "#kickstage calculation\n",
    "\n",
    "v[7]=(mu[0]/ap[0])**(1/2)            #orbital velocity in parking Orbit of S/C\n",
    "v[8]=(2*mu[0]/ap[0] +v[5]**2)**(1/2) #needed Velocity of S/C for leaving SOI from Earth for elliptical Transferorbit\n",
    "\n",
    "dVl=amount((v[7]-v[8]))\n",
    "\n",
    "#insertion calculation\n",
    "dVa=(2*mu[1]/rpa +v[6]**2)**(1/2)-(2*mu[1]/rpa-mu[1]/ap[1])**(1/2)\n",
    "\n",
    "dV_total=dVl+amount(dVa)"
   ]
  },
  {
   "cell_type": "code",
   "execution_count": 5,
   "id": "0bda2c9d-e091-49a7-835b-0e1657edfed0",
   "metadata": {},
   "outputs": [
    {
     "name": "stdout",
     "output_type": "stream",
     "text": [
      "Vapo 27.2892183181494  \n",
      "Vperi 37.727455289428825\n",
      "Vinf leaving 2.4955km/s\n",
      "Vinf arrival -2.7066km/s\n",
      "delta V leaving 3.5036km/s\n",
      "delta V arrival 1.3947km/s \n",
      "\n",
      "dV_total 4.8983km/s\n"
     ]
    }
   ],
   "source": [
    "#vinf values\n",
    "print('Vapo',v[3],' \\nVperi',v[4])\n",
    "print('Vinf leaving',format(v[5],'.5')+str('km/s'))\n",
    "print('Vinf arrival',format(v[6],'.5')+str('km/s'))\n",
    "\n",
    "\n",
    "print('delta V leaving',format(dVl,'.5')+str('km/s'))\n",
    "print('delta V arrival',format(dVa,'.5')+str('km/s \\n'))\n",
    "print('dV_total',format(dV_total,'.5')+str('km/s'))"
   ]
  },
  {
   "cell_type": "code",
   "execution_count": 6,
   "id": "d85d8fcb-6694-45ca-9fb5-50d907a59f82",
   "metadata": {},
   "outputs": [],
   "source": [
    "# Note, code is not ready but almost finnished!"
   ]
  },
  {
   "cell_type": "code",
   "execution_count": 7,
   "id": "ad8db343-6ea2-4f30-9f4c-48f1483e9acf",
   "metadata": {},
   "outputs": [
    {
     "name": "stdout",
     "output_type": "stream",
     "text": [
      "29.78km/s \n",
      "35.02km/s \n",
      "2.222km/s \n",
      "27.29km/s \n",
      "37.73km/s \n",
      "2.495km/s \n",
      "-2.707km/s \n",
      "7.784km/s \n",
      "11.29km/s \n",
      "10.0km/s \n"
     ]
    }
   ],
   "source": [
    "vs= []\n",
    "i=0\n",
    "while i<np.size(v):\n",
    "    tmp=format(v[i],'.4')+str('km/s ')\n",
    "    vs.append(tmp)\n",
    "    print(vs[i])\n",
    "    i=i+1"
   ]
  },
  {
   "cell_type": "code",
   "execution_count": null,
   "id": "e9f09be1-5cda-47a6-a50a-a48d8329003d",
   "metadata": {},
   "outputs": [],
   "source": []
  },
  {
   "cell_type": "code",
   "execution_count": null,
   "id": "0337bf31-be07-4a61-90bb-515e396ec0a9",
   "metadata": {},
   "outputs": [],
   "source": []
  }
 ],
 "metadata": {
  "kernelspec": {
   "display_name": "Python 3 (ipykernel)",
   "language": "python",
   "name": "python3"
  },
  "language_info": {
   "codemirror_mode": {
    "name": "ipython",
    "version": 3
   },
   "file_extension": ".py",
   "mimetype": "text/x-python",
   "name": "python",
   "nbconvert_exporter": "python",
   "pygments_lexer": "ipython3",
   "version": "3.9.9"
  }
 },
 "nbformat": 4,
 "nbformat_minor": 5
}
