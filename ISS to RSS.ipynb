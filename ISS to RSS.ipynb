{
 "cells": [
  {
   "cell_type": "markdown",
   "id": "8e61c5af-2803-4de8-803d-3dabb4f4b84b",
   "metadata": {
    "jp-MarkdownHeadingCollapsed": true,
    "tags": []
   },
   "source": [
    "######"
   ]
  },
  {
   "cell_type": "code",
   "execution_count": 1,
   "id": "2862faaa-eb9b-4aa1-8812-d49236ce0e80",
   "metadata": {},
   "outputs": [
    {
     "name": "stdout",
     "output_type": "stream",
     "text": [
      "Hi!\n",
      "I include Numpy!\n",
      "For some Help run:\n",
      "- basics_info()\n",
      "- detlef()\n"
     ]
    }
   ],
   "source": [
    "%run -i basics.py"
   ]
  },
  {
   "cell_type": "markdown",
   "id": "57b2d5d4-ecc2-4eed-a4aa-642e3de3821a",
   "metadata": {
    "tags": []
   },
   "source": [
    "#### Transfer Russion Module from ISS to SSO Orbit"
   ]
  },
  {
   "cell_type": "markdown",
   "id": "ac20da90-11be-477b-b953-e850248adff2",
   "metadata": {
    "jp-MarkdownHeadingCollapsed": true,
    "tags": []
   },
   "source": [
    "##### calculation"
   ]
  },
  {
   "cell_type": "code",
   "execution_count": 81,
   "id": "081ac455-55cf-409f-92ae-ad6d83a2a418",
   "metadata": {},
   "outputs": [],
   "source": [
    "a=[]\n",
    "i=[]\n",
    "#ISS Start State\n",
    "iss=51.64127180*pi/180\n",
    "i.append(iss)\n",
    "hp=413\n",
    "ha=422\n",
    "aiss=(422+413+2*Re)/2\n",
    "a.append(aiss)\n",
    "\n",
    "#SSO Final state\n",
    "hsso=567\n",
    "asso=(2*Re+2*hsso)/2\n",
    "isso=97.7/180*pi\n",
    "a.append(asso)\n",
    "a=np.array(a)\n",
    "i.append(isso)\n",
    "i=np.array(i)\n",
    "i=i/pi*180"
   ]
  },
  {
   "cell_type": "code",
   "execution_count": 82,
   "id": "ad93c892-cdec-4db1-a612-1941bfb4579e",
   "metadata": {},
   "outputs": [
    {
     "data": {
      "text/plain": [
       "array([7.65867575, 7.57579759])"
      ]
     },
     "execution_count": 82,
     "metadata": {},
     "output_type": "execute_result"
    }
   ],
   "source": [
    "v=(me/a)**0.5\n",
    "v"
   ]
  },
  {
   "cell_type": "code",
   "execution_count": 83,
   "id": "3322c151-e85c-4380-a7ba-2096acedc62d",
   "metadata": {},
   "outputs": [],
   "source": [
    "dV=2*v[0]*sin((-iss+isso)/2)"
   ]
  },
  {
   "cell_type": "code",
   "execution_count": 84,
   "id": "4a58b388-3163-44bb-aa65-6e0cf62b6f68",
   "metadata": {},
   "outputs": [
    {
     "data": {
      "text/plain": [
       "5.992191350708776"
      ]
     },
     "execution_count": 84,
     "metadata": {},
     "output_type": "execute_result"
    }
   ],
   "source": [
    "dV"
   ]
  },
  {
   "cell_type": "code",
   "execution_count": 85,
   "id": "028013fd-e160-4f86-90c4-c9795e2f119f",
   "metadata": {},
   "outputs": [
    {
     "data": {
      "text/plain": [
       "0.8038764563711615"
      ]
     },
     "execution_count": 85,
     "metadata": {},
     "output_type": "execute_result"
    }
   ],
   "source": [
    "di=-iss+isso\n",
    "di"
   ]
  },
  {
   "cell_type": "code",
   "execution_count": 86,
   "id": "1058e1bd-3a89-4def-9711-16b35230830a",
   "metadata": {},
   "outputs": [],
   "source": [
    "tmp=cos(di)*v[1]\n",
    "x=tmp-v[0]"
   ]
  },
  {
   "cell_type": "code",
   "execution_count": 87,
   "id": "d275d074-6142-4146-b72a-e4b20006b7ac",
   "metadata": {},
   "outputs": [],
   "source": [
    "tmp=sin(di)*v[1]\n",
    "h=tmp"
   ]
  },
  {
   "cell_type": "code",
   "execution_count": 88,
   "id": "05b87a8b-355c-49bb-9b2f-a86452a9b7fe",
   "metadata": {},
   "outputs": [
    {
     "data": {
      "text/plain": [
       "5.960257230821681"
      ]
     },
     "execution_count": 88,
     "metadata": {},
     "output_type": "execute_result"
    }
   ],
   "source": [
    "dV=(h**2+x**2)**0.5\n",
    "dV"
   ]
  },
  {
   "cell_type": "code",
   "execution_count": 89,
   "id": "eea5f754-5787-49e4-b940-391e053a6b9b",
   "metadata": {},
   "outputs": [],
   "source": [
    "def p():\n",
    "    print('deltaV for Plane Change from ISS Orbit to SSO is {}km/s for a combined Maneuver'.format(fun(dV)))\n",
    "    print('ISS Orbit is: \\ni= {}\\na= {}km\\nVmean={}km/s\\n'.format(fun(i[0]),fun(a[0]),fun(v[0])) )\n",
    "    print('Russian Spacestaion Orbit is: \\ni= {}\\na= {}km\\nVmean={}km/s\\n'.format(fun(i[1]),fun(a[1]),fun(v[1])) )"
   ]
  },
  {
   "cell_type": "markdown",
   "id": "f4e05576-71c9-4ab0-bf03-1ee53a240de0",
   "metadata": {},
   "source": [
    "##### Result"
   ]
  },
  {
   "cell_type": "code",
   "execution_count": 91,
   "id": "a7b4d328-6946-42a4-84ac-a00807960602",
   "metadata": {},
   "outputs": [
    {
     "name": "stdout",
     "output_type": "stream",
     "text": [
      "deltaV for Plane Change from ISS Orbit to SSO is 5.9603km/s for a combined Maneuver\n",
      "ISS Orbit is: \n",
      "i= 51.641\n",
      "a= 6795.6km\n",
      "Vmean=7.6587km/s\n",
      "\n",
      "Russian Spacestaion Orbit is: \n",
      "i= 97.7\n",
      "a= 6945.1km\n",
      "Vmean=7.5758km/s\n",
      "\n"
     ]
    }
   ],
   "source": [
    "p()"
   ]
  },
  {
   "cell_type": "code",
   "execution_count": null,
   "id": "65bafba3-3ea2-4828-b076-2b8215e1638e",
   "metadata": {},
   "outputs": [],
   "source": []
  }
 ],
 "metadata": {
  "kernelspec": {
   "display_name": "Python 3 (ipykernel)",
   "language": "python",
   "name": "python3"
  },
  "language_info": {
   "codemirror_mode": {
    "name": "ipython",
    "version": 3
   },
   "file_extension": ".py",
   "mimetype": "text/x-python",
   "name": "python",
   "nbconvert_exporter": "python",
   "pygments_lexer": "ipython3",
   "version": "3.9.9"
  }
 },
 "nbformat": 4,
 "nbformat_minor": 5
}
