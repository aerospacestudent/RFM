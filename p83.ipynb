{
 "cells": [
  {
   "cell_type": "code",
   "execution_count": 1,
   "id": "72fe1cf6-b7e1-48d4-8446-7fdfcf94c18b",
   "metadata": {},
   "outputs": [
    {
     "name": "stdout",
     "output_type": "stream",
     "text": [
      "Hi!\n",
      "i include Numpy!\n",
      "For some Help run:\n",
      "- basics_info()\n",
      "- detlef()\n"
     ]
    }
   ],
   "source": [
    "%run -i basics.py"
   ]
  },
  {
   "cell_type": "code",
   "execution_count": 50,
   "id": "0c68f331-73c3-475d-b808-04c7afa81488",
   "metadata": {},
   "outputs": [
    {
     "name": "stdout",
     "output_type": "stream",
     "text": [
      "[6780.14 6788.14 6784.14] 0.00058961\n"
     ]
    }
   ],
   "source": [
    "i=51.6421 #deg\n",
    "i=i/180*pi\n",
    "\n",
    "a_iss=np.array([402,410,0])\n",
    "a_iss=a_iss+Re\n",
    "a_iss[2]=(a_iss[0]+a_iss[1])/2\n",
    "# rp=(1-e)*a\n",
    "rp=a_iss[0]\n",
    "e=1-rp/a_iss[2]\n",
    "\n",
    "print(a_iss,fun(e))"
   ]
  },
  {
   "cell_type": "code",
   "execution_count": 71,
   "id": "1a4dcaf4-37f7-47fa-bf85-9f38551b586b",
   "metadata": {},
   "outputs": [
    {
     "name": "stdout",
     "output_type": "stream",
     "text": [
      "-1.00644e-06\n"
     ]
    }
   ],
   "source": [
    "n=(me/a_iss[2]**3)**0.5\n",
    "\n",
    "\n",
    "O=-(3*n*J2*Re**2)/(2*a_iss[2]**2*(1-e**2)**2)\n",
    "Odot=O*cos(i)\n",
    "print(fun(Odot))"
   ]
  },
  {
   "cell_type": "code",
   "execution_count": 72,
   "id": "3579af54-a533-42b3-9038-04b653260005",
   "metadata": {},
   "outputs": [
    {
     "name": "stdout",
     "output_type": "stream",
     "text": [
      "n= 0.00112987\n",
      "Regression of Node is -4.98225 °/24h\n"
     ]
    }
   ],
   "source": [
    "Odot_dayly=Odot*60*60*24\n",
    "Odot_dayly=Odot_dayly/pi*180\n",
    "pr=fun(Odot_dayly)\n",
    "n=fun(n)\n",
    "print ('n= %s'%n)\n",
    "print('Regression of Node is %s °/24h' %pr)"
   ]
  },
  {
   "cell_type": "code",
   "execution_count": 75,
   "id": "2dba49f0-bd14-4572-9714-56eca09f9936",
   "metadata": {},
   "outputs": [],
   "source": [
    "omega=O*(5/2*sin(i)**2-2)\n",
    "omega_d=omega/pi*180*60**2*24"
   ]
  },
  {
   "cell_type": "code",
   "execution_count": 76,
   "id": "3125a299-eea6-4fd9-81d9-209d9bc75070",
   "metadata": {},
   "outputs": [
    {
     "name": "stdout",
     "output_type": "stream",
     "text": [
      "ω=3.71536°/24h\n"
     ]
    }
   ],
   "source": [
    "print('\\u03C9=%s°/24h'%fun(omega_d))"
   ]
  }
 ],
 "metadata": {
  "kernelspec": {
   "display_name": "Python 3 (ipykernel)",
   "language": "python",
   "name": "python3"
  },
  "language_info": {
   "codemirror_mode": {
    "name": "ipython",
    "version": 3
   },
   "file_extension": ".py",
   "mimetype": "text/x-python",
   "name": "python",
   "nbconvert_exporter": "python",
   "pygments_lexer": "ipython3",
   "version": "3.9.9"
  }
 },
 "nbformat": 4,
 "nbformat_minor": 5
}
