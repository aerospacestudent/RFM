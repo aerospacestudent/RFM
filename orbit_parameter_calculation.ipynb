{
 "cells": [
  {
   "cell_type": "code",
   "execution_count": 2,
   "id": "2d231c35-a3c1-4bed-b0db-ec177868fe86",
   "metadata": {},
   "outputs": [
    {
     "name": "stdout",
     "output_type": "stream",
     "text": [
      "Hi!\n",
      "I include Numpy!\n",
      "For some Help run:\n",
      "- basics_info()\n",
      "- detlef()\n"
     ]
    }
   ],
   "source": [
    "%run -i basics.py"
   ]
  },
  {
   "cell_type": "code",
   "execution_count": 3,
   "id": "734ff6c7-54cd-40d0-b5b7-30b44d19bbd8",
   "metadata": {},
   "outputs": [
    {
     "ename": "SyntaxError",
     "evalue": "invalid syntax (1646727487.py, line 1)",
     "output_type": "error",
     "traceback": [
      "\u001b[0;36m  File \u001b[0;32m\"/var/folders/qv/k9s0g6js6sg2jx2w0_ynw4mw0000gn/T/ipykernel_1037/1646727487.py\"\u001b[0;36m, line \u001b[0;32m1\u001b[0m\n\u001b[0;31m    a=\u001b[0m\n\u001b[0m      ^\u001b[0m\n\u001b[0;31mSyntaxError\u001b[0m\u001b[0;31m:\u001b[0m invalid syntax\n"
     ]
    }
   ],
   "source": [
    "a=\n",
    "e=\n",
    "i=\n",
    "Ω=\n",
    "w=\n",
    "\n",
    "\n",
    "rp=\n",
    "ap=\n",
    "planet=\n",
    "P=\n",
    "f="
   ]
  },
  {
   "cell_type": "code",
   "execution_count": null,
   "id": "4a0f3c40-bc10-4126-ae17-28f3ea784162",
   "metadata": {},
   "outputs": [],
   "source": []
  }
 ],
 "metadata": {
  "kernelspec": {
   "display_name": "Python 3 (ipykernel)",
   "language": "python",
   "name": "python3"
  },
  "language_info": {
   "codemirror_mode": {
    "name": "ipython",
    "version": 3
   },
   "file_extension": ".py",
   "mimetype": "text/x-python",
   "name": "python",
   "nbconvert_exporter": "python",
   "pygments_lexer": "ipython3",
   "version": "3.9.9"
  }
 },
 "nbformat": 4,
 "nbformat_minor": 5
}
