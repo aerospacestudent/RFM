{
 "cells": [
  {
   "cell_type": "code",
   "execution_count": 24,
   "id": "2c3e1d01-28a3-4cbe-8b05-944537a57a2d",
   "metadata": {},
   "outputs": [],
   "source": [
    "import numpy as np\n",
    "def form8(x):\n",
    "    x=format(x,'.8')\n",
    "    return x\n",
    "def form(x):\n",
    "    x=format(x,'.4')\n",
    "    return x"
   ]
  },
  {
   "cell_type": "code",
   "execution_count": 31,
   "id": "d7ea8520-225c-4186-8aac-ea74ed181820",
   "metadata": {},
   "outputs": [],
   "source": [
    "\n",
    "mm=42828.3\n",
    "c3=2.649**2\n",
    "\n",
    "\n",
    "raa=20000                 #apocentrum arrival mars km\n",
    "rpa=4000                  #perocentrum arrival mars km\n",
    "aa=raa+rpa\n",
    "ap=aa/2\n",
    "\n",
    "\n",
    "ap=4000 # aus aufgabenstellung\n"
   ]
  },
  {
   "cell_type": "code",
   "execution_count": 32,
   "id": "06a0a5aa-35b7-4678-90ea-bbb477350c77",
   "metadata": {},
   "outputs": [
    {
     "name": "stdout",
     "output_type": "stream",
     "text": [
      "8051.4997km\n",
      "0.9222rad\n",
      "52.84deg\n"
     ]
    }
   ],
   "source": [
    "b=ap*(2*mm/(ap*c3)+1)**0.5\n",
    "print(form8(b)+'km')\n",
    "\n",
    "\n",
    "tan_beta=b*c3/mm\n",
    "beta=np.arctan(tan_beta)\n",
    "print(form(beta)+'rad')\n",
    "ans=beta*180/np.pi #degre\n",
    "print(form(ans)+'deg')"
   ]
  },
  {
   "cell_type": "code",
   "execution_count": 33,
   "id": "7b025f25-fdae-4904-ab94-d655b1d1f6b6",
   "metadata": {},
   "outputs": [
    {
     "name": "stdout",
     "output_type": "stream",
     "text": [
      "74.33deg\n"
     ]
    }
   ],
   "source": [
    "sigma=180-2*ans\n",
    "print(form(sigma)+'deg')"
   ]
  },
  {
   "cell_type": "code",
   "execution_count": null,
   "id": "75847640-c29c-49c6-bf53-e86c66474cf9",
   "metadata": {},
   "outputs": [],
   "source": []
  }
 ],
 "metadata": {
  "kernelspec": {
   "display_name": "Python 3 (ipykernel)",
   "language": "python",
   "name": "python3"
  },
  "language_info": {
   "codemirror_mode": {
    "name": "ipython",
    "version": 3
   },
   "file_extension": ".py",
   "mimetype": "text/x-python",
   "name": "python",
   "nbconvert_exporter": "python",
   "pygments_lexer": "ipython3",
   "version": "3.9.9"
  }
 },
 "nbformat": 4,
 "nbformat_minor": 5
}
