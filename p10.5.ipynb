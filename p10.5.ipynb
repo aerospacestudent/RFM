{
 "cells": [
  {
   "cell_type": "code",
   "execution_count": 2,
   "id": "befb2bc4-98c0-4470-a880-40e4a78f4ab0",
   "metadata": {},
   "outputs": [
    {
     "name": "stdout",
     "output_type": "stream",
     "text": [
      "For Help:\n",
      "basics_info()\n",
      "detlef()\n"
     ]
    }
   ],
   "source": [
    "#Problem 10.5\n",
    "%run -i basics.py"
   ]
  },
  {
   "cell_type": "code",
   "execution_count": 29,
   "id": "fd126611-028b-47b7-a47f-5bd21e3e74bd",
   "metadata": {},
   "outputs": [],
   "source": [
    "m0=68000 #t\n",
    "R = 15\n",
    "Isp = 390 #s\n",
    "FT = 933910 #N"
   ]
  },
  {
   "cell_type": "code",
   "execution_count": 48,
   "id": "71abb70a-2be7-4ddf-95eb-06fe0aba051b",
   "metadata": {},
   "outputs": [],
   "source": [
    "c=Isp*g0\n",
    "mpf=FT/c #propellant mass flow\n",
    "MR=1/R # MR=mf/m0\n",
    "mf=m0/R\n",
    "zeta=1-MR\n",
    "mp=zeta*m0\n",
    "\n",
    "tburnout=mp/mpf\n",
    "tmin=tburnout/60"
   ]
  },
  {
   "cell_type": "code",
   "execution_count": 54,
   "id": "6b9b6a8f-2fcf-4730-9771-c7d4595ccd97",
   "metadata": {},
   "outputs": [],
   "source": [
    "ans=[mpf ,mf, mp ,tmin]\n",
    "units=[]\n",
    "units.append(\"kg/s\")\n",
    "units.append(\"kg\")\n",
    "units.append(\"kg\")\n",
    "units.append(\"min\")"
   ]
  },
  {
   "cell_type": "code",
   "execution_count": 56,
   "id": "6fd98ca4-112f-40f1-8308-cede121ac678",
   "metadata": {},
   "outputs": [
    {
     "name": "stdout",
     "output_type": "stream",
     "text": [
      "244.185kg/s\n",
      "4533.33kg\n",
      "63466.7kg\n",
      "4.33186min\n"
     ]
    }
   ],
   "source": [
    "i=0\n",
    "while i<np.size(ans):\n",
    "    print(format(ans[i],'.6')+units[i])\n",
    "    i=i+1"
   ]
  }
 ],
 "metadata": {
  "kernelspec": {
   "display_name": "Python 3 (ipykernel)",
   "language": "python",
   "name": "python3"
  },
  "language_info": {
   "codemirror_mode": {
    "name": "ipython",
    "version": 3
   },
   "file_extension": ".py",
   "mimetype": "text/x-python",
   "name": "python",
   "nbconvert_exporter": "python",
   "pygments_lexer": "ipython3",
   "version": "3.9.9"
  }
 },
 "nbformat": 4,
 "nbformat_minor": 5
}
