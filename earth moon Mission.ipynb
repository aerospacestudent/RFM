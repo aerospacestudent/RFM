{
 "cells": [
  {
   "cell_type": "markdown",
   "id": "226bc51e-136e-4575-9667-04e4a02dc934",
   "metadata": {},
   "source": [
    "### Artemis calculation Earth -> Moon"
   ]
  },
  {
   "cell_type": "markdown",
   "id": "bc439c10-7af2-42dd-8605-b209e9c45ed7",
   "metadata": {
    "tags": []
   },
   "source": [
    "####"
   ]
  },
  {
   "cell_type": "code",
   "execution_count": 1,
   "id": "f4feb997-9df3-467b-a7da-6a09beafb8c1",
   "metadata": {},
   "outputs": [
    {
     "name": "stdout",
     "output_type": "stream",
     "text": [
      "Hi!\n",
      "I include Numpy!\n",
      "For some Help run:\n",
      "- basics_info()\n",
      "- detlef()\n"
     ]
    }
   ],
   "source": [
    "%run -i basics.py\n",
    "#detlef()\n",
    "#basics_info()\n",
    "space=8\n",
    "c3=np.zeros(space)\n",
    "v=np.zeros(space)\n"
   ]
  },
  {
   "cell_type": "code",
   "execution_count": 3,
   "id": "4545930a-3b0a-420b-ba82-9d7ea2ba0cab",
   "metadata": {},
   "outputs": [],
   "source": [
    "rmoon=1737.4 #km\n",
    "a_moon=384000 #km\n"
   ]
  },
  {
   "cell_type": "markdown",
   "id": "645e5b3f-07d3-4c9f-94aa-47022f723ae5",
   "metadata": {
    "tags": []
   },
   "source": [
    "#### SOIs"
   ]
  },
  {
   "cell_type": "code",
   "execution_count": 4,
   "id": "39862b47-64ee-4076-8af0-b9c0bba107d7",
   "metadata": {},
   "outputs": [
    {
     "name": "stdout",
     "output_type": "stream",
     "text": [
      "9.2465e+05km\n",
      "6.6114e+04km\n"
     ]
    },
    {
     "data": {
      "text/plain": [
       "('-6.0676e+05km', 159198.3013500009)"
      ]
     },
     "execution_count": 4,
     "metadata": {},
     "output_type": "execute_result"
    }
   ],
   "source": [
    "rsoi=np.zeros(2)\n",
    "rsoi[0]=auc*(me/ms)**(2/5)\n",
    "rsoi[1]=a_moon*(4902.8/me)**(2/5)\n",
    "tmp=0\n",
    "for i in rsoi:\n",
    "    print(fun(i)+'km')\n",
    "    tmp=tmp+i\n",
    "    \n",
    "    i=i+i\n",
    "SOI2=fun(a_moon-tmp)+'km'\n",
    "SOI2, auc*(4902.8/ms)**(2/5)"
   ]
  },
  {
   "cell_type": "markdown",
   "id": "d36ab3d0-5818-4652-b4be-4fed450b854b",
   "metadata": {
    "tags": []
   },
   "source": [
    "#### Launch 400km Orbit"
   ]
  },
  {
   "cell_type": "code",
   "execution_count": 5,
   "id": "6c502d6a-2cee-4ee2-b286-bd2fafbd0bac",
   "metadata": {},
   "outputs": [
    {
     "name": "stdout",
     "output_type": "stream",
     "text": [
      "7.6686km/s\n"
     ]
    }
   ],
   "source": [
    "h=400\n",
    "v_parke=v_circular(3,h) #velocity in Parking Orbit at 400km at earth\n",
    "\n",
    "rpark=h+R[3]"
   ]
  },
  {
   "cell_type": "code",
   "execution_count": 6,
   "id": "291f9500-f070-4261-8778-46c332785e8c",
   "metadata": {},
   "outputs": [],
   "source": [
    "def launch():\n",
    "    \n",
    "    al=(h+2*R[3])/2\n",
    "    vequator=2*pi*Re/d_sederial\n",
    "    vtrans=(2*me/Re-me/al)**0.5 #needed velocity at earth surface for Launch \n",
    "    \n",
    "    dV1=(vtrans-vequator) #gift from earth rotation\n",
    "    \n",
    "    #circularisation\n",
    "    vtransapo=(2*me/(400+R[3])-me/al)**0.5\n",
    "    dV2=sign(vtransapo-v_parke)\n",
    "    \n",
    "    print(fun(dV1)+'km/s',fun(dV2)+'km/s')\n",
    "    print('ΔV is '+fun(dV1+dV2)+'km/s')\n",
    "    v[1]=dV1\n",
    "    v[2]=dV2"
   ]
  },
  {
   "cell_type": "code",
   "execution_count": 7,
   "id": "ecad6614-e63d-4402-b5fb-cceb0e3cde05",
   "metadata": {},
   "outputs": [],
   "source": [
    "def launch_low_thurst():\n",
    "    vlaunch=2*(me/Re)**0.5-v_parke\n",
    "    vequator=2*pi*Re/d_sederial\n",
    "    v[1]=vlaunch-vequator\n",
    "    v[2]=0"
   ]
  },
  {
   "cell_type": "code",
   "execution_count": 8,
   "id": "3661ffb9-0a77-4019-b3f8-6b057627ca51",
   "metadata": {},
   "outputs": [
    {
     "data": {
      "text/plain": [
       "0.0014050960161915641"
      ]
     },
     "execution_count": 8,
     "metadata": {},
     "output_type": "execute_result"
    }
   ],
   "source": [
    "vf=8 #km/s for Parking Orbit\n",
    "t=1200 #seconds -> mp/mpflow\n",
    "#for saturn V deltaV/c=3.410 \n",
    "c=421*g0      # isp*g0\n",
    "\n",
    "MR=10**((-(vf+g0*t))/c)\n",
    "MR"
   ]
  },
  {
   "cell_type": "code",
   "execution_count": 9,
   "id": "820b01df-2246-412c-8843-d061c2354515",
   "metadata": {},
   "outputs": [
    {
     "name": "stdout",
     "output_type": "stream",
     "text": [
      "7.5595km/s 0.11748km/s\n",
      "ΔV is 7.677km/s\n"
     ]
    }
   ],
   "source": [
    "launch()\n",
    "#launch_low_thurst()"
   ]
  },
  {
   "cell_type": "code",
   "execution_count": 10,
   "id": "53b7d8ad-da03-4690-96ba-7265a68e5f81",
   "metadata": {},
   "outputs": [
    {
     "name": "stdout",
     "output_type": "stream",
     "text": [
      "66.295km^2/s^2\n"
     ]
    }
   ],
   "source": [
    "dV=2*(me/R[3])**0.5-v_parke #low thurst / long burn duration equation\n",
    "dV\n",
    "c3=dV**2 \n",
    "print(fun(c3)+'km^2/s^2')"
   ]
  },
  {
   "cell_type": "markdown",
   "id": "4bd66044-4c38-4aee-988b-99da76189554",
   "metadata": {
    "tags": []
   },
   "source": [
    "#### Leaving Orbit -> Transfer Orbit to Moon"
   ]
  },
  {
   "cell_type": "code",
   "execution_count": 11,
   "id": "d0b39d12-05ca-4c95-947a-5f4a6c8c4a26",
   "metadata": {},
   "outputs": [
    {
     "name": "stdout",
     "output_type": "stream",
     "text": [
      "1.5908km/s\n"
     ]
    }
   ],
   "source": [
    "v_moon=v_circular(4902.8,rmoon+200)\n",
    "\n",
    "\n",
    "ssm=(2*me/a_moon)**0.5\n"
   ]
  },
  {
   "cell_type": "code",
   "execution_count": 12,
   "id": "90b79507-ca5c-4506-92cb-528c217cb797",
   "metadata": {},
   "outputs": [
    {
     "data": {
      "text/plain": [
       "(-0.07379627225057628, 10.750978304319743, 1.3670520022044408)"
      ]
     },
     "execution_count": 12,
     "metadata": {},
     "output_type": "execute_result"
    }
   ],
   "source": [
    "at=(a_moon+rpark+rmoon+200)/2 #Transfer Ellipse SMA\n",
    "vtp=(2*me/(rpark)-me/at)**0.5\n",
    "vta=(2*me/(at+Re+rmoon)-me/at)**0.5\n",
    "\n",
    "dV3=sign(v_parke-vtp)\n",
    "v[3]=dV3\n",
    "vinfmoon=vta-ssm\n",
    "tmp=vta-v_moon-ssm\n",
    "dV4=sign(tmp)\n",
    "v[4]=dV4\n",
    "vinfmoon, vtp, vta"
   ]
  },
  {
   "cell_type": "markdown",
   "id": "cb563d97-87b3-4dd2-a0b6-1d84415777b2",
   "metadata": {
    "tags": []
   },
   "source": [
    "#### Landing"
   ]
  },
  {
   "cell_type": "code",
   "execution_count": 13,
   "id": "310d8f65-b3f1-42d1-824e-0aaefbdd2e50",
   "metadata": {},
   "outputs": [],
   "source": [
    "def landing():\n",
    "    hm=200\n",
    "    a=(2*rmoon+hm)/2\n",
    "    vapproach=(2*4902.8/(rmoon+hm)-4902.8/a)\n",
    "    vland=(2*4902.8/rmoon-4902.8/a)\n",
    "    print(fun(vapproach)+'km/s')\n",
    "    print(fun(vland)+'km/s')\n",
    "    v[5]=vapproach\n",
    "    v[6]=vland"
   ]
  },
  {
   "cell_type": "code",
   "execution_count": 14,
   "id": "2f8d16d8-a1d2-465d-a36f-a802ea590b11",
   "metadata": {},
   "outputs": [
    {
     "name": "stdout",
     "output_type": "stream",
     "text": [
      "2.3929km/s\n",
      "2.9755km/s\n"
     ]
    }
   ],
   "source": [
    "landing()"
   ]
  },
  {
   "cell_type": "markdown",
   "id": "dc817931-fea8-491a-897d-a59a148084d8",
   "metadata": {},
   "source": [
    "#### Total Cost"
   ]
  },
  {
   "cell_type": "code",
   "execution_count": 15,
   "id": "fd8b0c7c-f8a0-4e09-9f26-5554f6a5f955",
   "metadata": {},
   "outputs": [
    {
     "name": "stdout",
     "output_type": "stream",
     "text": [
      "  ΔV1=   7.5595km/s     Launch ΔV to Leo 400km\n",
      "  ΔV2=   0.11748km/s    circulation maneuver\n",
      "  ΔV3=   3.0824km/s     Transfer Maneuver\n",
      "  ΔV4=   1.6646km/s     :Note Gravity Assist may reduce this circulation at Moon\n",
      "  ΔV5=   2.3929km/s     Landing approach\n",
      "  ΔV6=   2.9755km/s     final burn at surface of Moon\n",
      "_______________________\n",
      "ΔVtotal: 17.792\n"
     ]
    }
   ],
   "source": [
    "print('  ΔV1=  ',fun(v[1])+'km/s'+'     Launch ΔV to Leo %ikm'%h)\n",
    "print('  ΔV2=  ',fun(v[2])+'km/s'+'    circulation maneuver')\n",
    "print('  ΔV3=  ',fun(v[3])+'km/s'+'     Transfer Maneuver')\n",
    "print('  ΔV4=  ',fun(v[4])+'km/s     :Note Gravity Assist may reduce this circulation at Moon')\n",
    "print('  ΔV5=  ',fun(v[5])+'km/s'+'     Landing approach')\n",
    "print('  ΔV6=  ',fun(v[6])+'km/s'+'     final burn at surface of Moon')\n",
    "print('_______________________')\n",
    "i=0\n",
    "while i<np.size(v):\n",
    "    if i==0:\n",
    "        tmp=0\n",
    "    tmp=tmp+v[i]\n",
    "    ans=tmp\n",
    "    i=i+1\n",
    "    \n",
    "print('ΔVtotal:',fun(tmp))\n",
    "#print('calculation only apprx. to Moon without Landing!')"
   ]
  }
 ],
 "metadata": {
  "kernelspec": {
   "display_name": "Python 3 (ipykernel)",
   "language": "python",
   "name": "python3"
  },
  "language_info": {
   "codemirror_mode": {
    "name": "ipython",
    "version": 3
   },
   "file_extension": ".py",
   "mimetype": "text/x-python",
   "name": "python",
   "nbconvert_exporter": "python",
   "pygments_lexer": "ipython3",
   "version": "3.9.9"
  }
 },
 "nbformat": 4,
 "nbformat_minor": 5
}
