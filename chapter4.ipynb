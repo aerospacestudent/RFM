{
 "cells": [
  {
   "cell_type": "code",
   "execution_count": 1,
   "id": "034f1912-264b-4dec-9292-82a67c75898e",
   "metadata": {},
   "outputs": [],
   "source": [
    "#problem 4.6\n",
    "import matplotlib.pyplot as p\n",
    "import numpy as np\n"
   ]
  },
  {
   "cell_type": "code",
   "execution_count": 2,
   "id": "2408cb19-406f-4895-9654-87551e59cad1",
   "metadata": {},
   "outputs": [],
   "source": [
    "#comparemaent of Jupiter and earth in their orbital angular momenta H\n",
    "def Hh():\n",
    "    #mu=G*m\n",
    "    m[i]=mu[i]/G\n",
    "    h=np.sqrt(mu[i]*a[i]*(1-e[i]**2))\n",
    "    H=m[i]*h\n",
    " \n",
    "    \n",
    "    print (f'H={H:0.4e}')\n",
    "    return H"
   ]
  },
  {
   "cell_type": "code",
   "execution_count": 3,
   "id": "af9dab61-57ba-426b-96c6-322c2661ca5d",
   "metadata": {
    "tags": []
   },
   "outputs": [
    {
     "name": "stdout",
     "output_type": "stream",
     "text": [
      "H=4.6111e+31\n",
      "H=5.9552e+35\n",
      "12914.953196352211\n"
     ]
    }
   ],
   "source": [
    "au= 149597870.7 #km\n",
    "G= 6.6743e-20 #km^3/(kg*s^2)\n",
    "\n",
    "\n",
    "mu=np.zeros(2)\n",
    "a=np.zeros(2)\n",
    "e=np.zeros(2)\n",
    "m=np.zeros(2)\n",
    "\n",
    "#for earth\n",
    "i=0\n",
    "mu[i]=398600.4       #km^3/s^2\n",
    "a[i]= 1.000003*au    #km\n",
    "e[i]=0.0167 \n",
    "m[i]=1898.8e24\n",
    "x1=Hh()\n",
    "\n",
    "#for jupiter\n",
    "i+=1\n",
    "mu[i]=126.7119954e6   #km^3/s^2\n",
    "a[i]=5.202887*au      #km\n",
    "e[i]=0.0484\n",
    "m[i]=5.9742e24\n",
    "x2=Hh()\n",
    "\n",
    "print(x2/x1)\n",
    "#print(mu,a)"
   ]
  },
  {
   "cell_type": "code",
   "execution_count": null,
   "id": "f73b4e44-5f5f-4c3b-863f-725dcb04ef5e",
   "metadata": {},
   "outputs": [],
   "source": []
  },
  {
   "cell_type": "code",
   "execution_count": null,
   "id": "767ad05d-e882-4bfa-a867-a0589fdf625b",
   "metadata": {},
   "outputs": [],
   "source": []
  }
 ],
 "metadata": {
  "kernelspec": {
   "display_name": "Python 3 (ipykernel)",
   "language": "python",
   "name": "python3"
  },
  "language_info": {
   "codemirror_mode": {
    "name": "ipython",
    "version": 3
   },
   "file_extension": ".py",
   "mimetype": "text/x-python",
   "name": "python",
   "nbconvert_exporter": "python",
   "pygments_lexer": "ipython3",
   "version": "3.9.9"
  }
 },
 "nbformat": 4,
 "nbformat_minor": 5
}
