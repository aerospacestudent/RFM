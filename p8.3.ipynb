{
 "cells": [
  {
   "cell_type": "code",
   "execution_count": 1,
   "id": "159b4195-3270-43d9-b802-02b82c16936b",
   "metadata": {},
   "outputs": [],
   "source": [
    "#P8.3"
   ]
  },
  {
   "cell_type": "code",
   "execution_count": 2,
   "id": "20e61489-f751-4844-afe7-b2d287cf6a66",
   "metadata": {},
   "outputs": [
    {
     "name": "stdout",
     "output_type": "stream",
     "text": [
      "Hi!\n",
      "i include Numpy!\n",
      "For some Help run:\n",
      "- basics_info()\n",
      "- detlef()\n"
     ]
    }
   ],
   "source": [
    "%run -i basics.py"
   ]
  },
  {
   "cell_type": "code",
   "execution_count": 3,
   "id": "22e28a13-cd8a-4fd6-a267-3d63fe1cd3af",
   "metadata": {},
   "outputs": [
    {
     "name": "stdout",
     "output_type": "stream",
     "text": [
      "The Indices are in the Order of the Solarsytem\n",
      "0=Sun\n",
      "1=Merkur\n",
      "2=Venus\n",
      "3=Earth\n",
      "4=Mars\n",
      "5=Jupiter\n",
      "6=Saturn\n",
      "7=Uranus\n",
      "8=Neptun\n"
     ]
    }
   ],
   "source": [
    "detlef()"
   ]
  },
  {
   "cell_type": "code",
   "execution_count": 4,
   "id": "3a82445c-2beb-467e-9bb2-973ca2fe1b72",
   "metadata": {},
   "outputs": [],
   "source": [
    "i=51.6421 #deg\n",
    "a=2*R[3]+402+410\n",
    "a=a/2\n",
    "rp=R[3]+402\n",
    "e=1-rp/a\n",
    "me=mu[3]\n",
    "n=(me/a**3)**0.5\n",
    "\n",
    "RAAN= (-3)*n*J2*R[3]**2/(2*a**2*(1-e**2)**2)*np.cos(i)*60*60*24\n"
   ]
  },
  {
   "cell_type": "code",
   "execution_count": 5,
   "id": "6d8d8322-4519-4e00-a84e-00a7bda85f77",
   "metadata": {},
   "outputs": [
    {
     "name": "stdout",
     "output_type": "stream",
     "text": [
      "-0.02703831648364867\n"
     ]
    }
   ],
   "source": [
    "print(RAAN)"
   ]
  },
  {
   "cell_type": "code",
   "execution_count": null,
   "id": "0feaf916-74d3-4604-9920-9705bacc1359",
   "metadata": {},
   "outputs": [],
   "source": []
  },
  {
   "cell_type": "code",
   "execution_count": null,
   "id": "cd8c4ae8-72f7-492e-b89d-6e87a69968d3",
   "metadata": {},
   "outputs": [],
   "source": []
  }
 ],
 "metadata": {
  "kernelspec": {
   "display_name": "Python 3 (ipykernel)",
   "language": "python",
   "name": "python3"
  },
  "language_info": {
   "codemirror_mode": {
    "name": "ipython",
    "version": 3
   },
   "file_extension": ".py",
   "mimetype": "text/x-python",
   "name": "python",
   "nbconvert_exporter": "python",
   "pygments_lexer": "ipython3",
   "version": "3.9.9"
  }
 },
 "nbformat": 4,
 "nbformat_minor": 5
}
