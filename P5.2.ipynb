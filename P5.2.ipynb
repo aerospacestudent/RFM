{
 "cells": [
  {
   "cell_type": "markdown",
   "id": "4ce48e7d-f405-497f-9245-71178f095bd0",
   "metadata": {},
   "source": [
    "### Calculation Orbit elements P5.2"
   ]
  },
  {
   "cell_type": "markdown",
   "id": "0de3ae03-0af4-4b51-a272-2c111d464f8f",
   "metadata": {
    "tags": []
   },
   "source": [
    "####"
   ]
  },
  {
   "cell_type": "code",
   "execution_count": 1,
   "id": "617d949c-51ca-4191-af2d-ffb59c676987",
   "metadata": {},
   "outputs": [
    {
     "name": "stdout",
     "output_type": "stream",
     "text": [
      "Hi!\n",
      "I include Numpy!\n",
      "For some Help run:\n",
      "- basics_info()\n",
      "- detlef()\n"
     ]
    }
   ],
   "source": [
    "%run -i basics.py"
   ]
  },
  {
   "cell_type": "markdown",
   "id": "157153a0-61e0-448f-a946-7bf5a36e1310",
   "metadata": {},
   "source": [
    "#### Orbit Parameter "
   ]
  },
  {
   "cell_type": "code",
   "execution_count": 2,
   "id": "5f671908-4555-407a-8987-6fc9552ed3e5",
   "metadata": {},
   "outputs": [],
   "source": [
    "R=np.array((10000,40000, -5000))\n",
    "V=np.array((-1.5,1,-0.1))"
   ]
  },
  {
   "cell_type": "markdown",
   "id": "e01e6b51-fb5e-4fa3-b48c-ec87c9e9377d",
   "metadata": {},
   "source": [
    "#### Parameter calc"
   ]
  },
  {
   "cell_type": "code",
   "execution_count": 3,
   "id": "e36d66a5-1460-45a4-a9cc-7e2af34971a7",
   "metadata": {},
   "outputs": [
    {
     "name": "stdout",
     "output_type": "stream",
     "text": [
      "Warning:\n",
      "sign() may be disfunctional for this task, please check, ignore if okay\n",
      "Amount is: 4.1533e+04\n"
     ]
    }
   ],
   "source": [
    "r=amount(sign(R))"
   ]
  },
  {
   "cell_type": "code",
   "execution_count": 4,
   "id": "d07a1d99-9f0a-4eed-a505-173c0c40e70d",
   "metadata": {},
   "outputs": [
    {
     "name": "stdout",
     "output_type": "stream",
     "text": [
      "Warning:\n",
      "sign() may be disfunctional for this task, please check, ignore if okay\n",
      "Amount is: 1.8055\n"
     ]
    }
   ],
   "source": [
    "v=amount(sign(V))"
   ]
  },
  {
   "cell_type": "code",
   "execution_count": 5,
   "id": "d2c61836-1650-45b2-8a31-f0fcff4bc25a",
   "metadata": {},
   "outputs": [],
   "source": [
    "#vis-viva\n",
    "a=me/((2*me/r-v**2))"
   ]
  },
  {
   "cell_type": "code",
   "execution_count": 6,
   "id": "835779e4-2cac-458c-9075-a33243b01ff6",
   "metadata": {},
   "outputs": [],
   "source": [
    "E=(v**2/me-1/r)*R - 1/me*(R*V)*V"
   ]
  },
  {
   "cell_type": "code",
   "execution_count": 7,
   "id": "a57a8904-6d58-450e-a9b0-14d34afbae1e",
   "metadata": {},
   "outputs": [
    {
     "name": "stdout",
     "output_type": "stream",
     "text": [
      "Amount is: 0.77128\n"
     ]
    }
   ],
   "source": [
    "e=amount(E)"
   ]
  },
  {
   "cell_type": "code",
   "execution_count": 8,
   "id": "3a297d2b-b417-42ff-91d4-f4f99a614b47",
   "metadata": {},
   "outputs": [],
   "source": [
    "K=cross (R,V)"
   ]
  },
  {
   "cell_type": "code",
   "execution_count": 9,
   "id": "c3ced28f-8ad4-4ab1-ae0d-c4d5f5717e26",
   "metadata": {},
   "outputs": [
    {
     "name": "stdout",
     "output_type": "stream",
     "text": [
      "Amount is: 7.0521e+04\n"
     ]
    }
   ],
   "source": [
    "hv=K\n",
    "h=amount(hv)"
   ]
  },
  {
   "cell_type": "code",
   "execution_count": 10,
   "id": "00d80f4f-a023-4c2a-8580-edaa1d19dffd",
   "metadata": {},
   "outputs": [],
   "source": [
    "i=np.arccos(sign(hv[2]/h))/pi*180"
   ]
  },
  {
   "cell_type": "code",
   "execution_count": 12,
   "id": "9832a0c7-2283-49ed-90ed-08b7157b36fd",
   "metadata": {},
   "outputs": [
    {
     "name": "stdout",
     "output_type": "stream",
     "text": [
      "r=4.1533e+04\n",
      "a=2.5015e+04\n",
      "V=1.8055\n",
      "e=0.77128\n",
      "i=6.9707°\n"
     ]
    }
   ],
   "source": [
    "#printline\n",
    "print('r='+fun(r))\n",
    "print('a='+fun(a))\n",
    "print('V='+fun(v))\n",
    "print('e='+fun(e))\n",
    "print('i='+fun(i)+'°')\n"
   ]
  },
  {
   "cell_type": "code",
   "execution_count": 13,
   "id": "de6dd30b-f807-4d73-b450-87df851fff23",
   "metadata": {},
   "outputs": [],
   "source": [
    "hu=hv/h"
   ]
  },
  {
   "cell_type": "code",
   "execution_count": 37,
   "id": "2750b623-d820-4935-9b5d-c1d3a6d0fd5a",
   "metadata": {},
   "outputs": [],
   "source": [
    "Z=[0,0,1]\n",
    "nv=cross(Z,hu)"
   ]
  },
  {
   "cell_type": "code",
   "execution_count": 38,
   "id": "d97b2bde-9511-4751-aa36-6993385609c5",
   "metadata": {},
   "outputs": [
    {
     "name": "stdout",
     "output_type": "stream",
     "text": [
      "Amount is: 0.12136\n"
     ]
    }
   ],
   "source": [
    "n= sin(i/180*pi) #equivalent\n",
    "n=amount(nv)"
   ]
  },
  {
   "cell_type": "code",
   "execution_count": 55,
   "id": "c708f4f6-66b1-4910-b61c-7c527534608d",
   "metadata": {},
   "outputs": [],
   "source": []
  },
  {
   "cell_type": "code",
   "execution_count": 72,
   "id": "c5a10990-fb97-46d0-a290-37f1cf861b0a",
   "metadata": {},
   "outputs": [
    {
     "name": "stdout",
     "output_type": "stream",
     "text": [
      "Amount is: 0.12136\n",
      "3.024478736965926\n",
      "173.2898668552054\n"
     ]
    }
   ],
   "source": [
    "X=np.array((1,0,0))\n",
    "\n",
    "tmp=nv[0]/amount(nv)\n",
    "tmp=truncate(tmp,6)\n",
    "Ω=np.arccos(tmp)\n",
    "print(Ω)\n",
    "print(Ω/pi*180)"
   ]
  },
  {
   "cell_type": "code",
   "execution_count": null,
   "id": "4f78bbde-194c-46b9-92eb-333da92e6ca5",
   "metadata": {},
   "outputs": [],
   "source": []
  }
 ],
 "metadata": {
  "kernelspec": {
   "display_name": "Python 3 (ipykernel)",
   "language": "python",
   "name": "python3"
  },
  "language_info": {
   "codemirror_mode": {
    "name": "ipython",
    "version": 3
   },
   "file_extension": ".py",
   "mimetype": "text/x-python",
   "name": "python",
   "nbconvert_exporter": "python",
   "pygments_lexer": "ipython3",
   "version": "3.9.9"
  }
 },
 "nbformat": 4,
 "nbformat_minor": 5
}
