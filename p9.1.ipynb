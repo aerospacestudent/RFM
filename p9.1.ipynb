{
 "cells": [
  {
   "cell_type": "code",
   "execution_count": 3,
   "id": "231429e6-d7f5-4d99-ada6-8eba2dc5633e",
   "metadata": {},
   "outputs": [],
   "source": [
    "#P9.1 SOI EARTH"
   ]
  },
  {
   "cell_type": "code",
   "execution_count": 4,
   "id": "684c1d3c-0ce9-4db4-bc0b-e5f52e0ada46",
   "metadata": {},
   "outputs": [
    {
     "name": "stdout",
     "output_type": "stream",
     "text": [
      "For Help:\n",
      "basics_info()\n",
      "detlef()\n"
     ]
    }
   ],
   "source": [
    "%run -i basics.py"
   ]
  },
  {
   "cell_type": "code",
   "execution_count": 21,
   "id": "e5754a5a-53b6-435d-8fbb-aa0a41936276",
   "metadata": {},
   "outputs": [
    {
     "name": "stdout",
     "output_type": "stream",
     "text": [
      "SOI Earth 0.00463566au\n",
      "SOI Earth 1.03744e+14km\n",
      "SOI Earth 1.62655e+10 Skalars of Earth\n"
     ]
    }
   ],
   "source": [
    "def str(x): return format(x,'.6') # keine lust gehabt den Code zu korrigieren\n",
    "\n",
    "SOIe=ap_au[3]*(mu[3]/mu[0])**(2/5)\n",
    "\n",
    "print('SOI Earth',str(SOIe)+'au')\n",
    "SOIe=ap[3]*(mu[3]/mu[0])**(2/5)\n",
    "\n",
    "print('SOI Earth',str(SOIe*au)+'km')\n",
    "\n",
    "SOIe=ap[3]*(mu[3]/mu[0])**(2/5)\n",
    "print('SOI Earth',str(SOIe*au/R[3]),'Skalars of Earth')"
   ]
  },
  {
   "cell_type": "code",
   "execution_count": null,
   "id": "35b07130-5fb7-401c-a3d9-80aebcff07af",
   "metadata": {},
   "outputs": [],
   "source": []
  }
 ],
 "metadata": {
  "kernelspec": {
   "display_name": "Python 3 (ipykernel)",
   "language": "python",
   "name": "python3"
  },
  "language_info": {
   "codemirror_mode": {
    "name": "ipython",
    "version": 3
   },
   "file_extension": ".py",
   "mimetype": "text/x-python",
   "name": "python",
   "nbconvert_exporter": "python",
   "pygments_lexer": "ipython3",
   "version": "3.9.9"
  }
 },
 "nbformat": 4,
 "nbformat_minor": 5
}
